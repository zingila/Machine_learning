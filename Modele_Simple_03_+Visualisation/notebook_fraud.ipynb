{
 "cells": [
  {
   "cell_type": "markdown",
   "id": "3ee5ae22",
   "metadata": {},
   "source": [
    "# Projet 1: Détection de Fraudes"
   ]
  },
  {
   "cell_type": "markdown",
   "id": "c2ab0df4",
   "metadata": {},
   "source": [
    "Nous allons étudier un problème de Machine Learning très intéressant qui consiste en la détection de transactions frauduleuses dans un jeu de données nommé \"*fraud.csv*\"."
   ]
  },
  {
   "cell_type": "markdown",
   "id": "dc4a64ea",
   "metadata": {},
   "source": [
    "## Chargement et préparation des données."
   ]
  },
  {
   "cell_type": "code",
   "execution_count": 67,
   "id": "8734b145",
   "metadata": {},
   "outputs": [
    {
     "name": "stdout",
     "output_type": "stream",
     "text": [
      "<class 'pandas.core.frame.DataFrame'>\n",
      "RangeIndex: 151112 entries, 0 to 151111\n",
      "Data columns (total 11 columns):\n",
      " #   Column          Non-Null Count   Dtype  \n",
      "---  ------          --------------   -----  \n",
      " 0   user_id         151112 non-null  int64  \n",
      " 1   signup_time     151112 non-null  object \n",
      " 2   purchase_time   151112 non-null  object \n",
      " 3   purchase_value  151112 non-null  int64  \n",
      " 4   device_id       151112 non-null  object \n",
      " 5   source          151112 non-null  object \n",
      " 6   browser         151112 non-null  object \n",
      " 7   sex             151112 non-null  object \n",
      " 8   age             151112 non-null  int64  \n",
      " 9   ip_address      151112 non-null  float64\n",
      " 10  is_fraud        151112 non-null  int64  \n",
      "dtypes: float64(1), int64(4), object(6)\n",
      "memory usage: 12.7+ MB\n"
     ]
    }
   ],
   "source": [
    "from sklearn.ensemble import VotingClassifier, RandomForestClassifier\n",
    "from sklearn.model_selection import train_test_split, cross_validate, KFold, cross_val_score, StratifiedKFold, GridSearchCV, RandomizedSearchCV, TimeSeriesSplit\n",
    "from sklearn.metrics import f1_score, confusion_matrix, accuracy_score, balanced_accuracy_score, recall_score\n",
    "from sklearn import svm\n",
    "from sklearn.tree import DecisionTreeClassifier\n",
    "from imblearn.over_sampling import SMOTE, RandomOverSampler\n",
    "from imblearn.under_sampling import TomekLinks, RandomUnderSampler, NearMiss\n",
    "from IPython.display import Image\n",
    "import matplotlib.pyplot as plt\n",
    "import seaborn as sns\n",
    "import pandas as pd\n",
    "import numpy as np\n",
    "\n",
    "\n",
    "df = pd.read_csv('fraud.csv')\n",
    "df.info()"
   ]
  },
  {
   "cell_type": "markdown",
   "id": "7c70ffb7",
   "metadata": {},
   "source": [
    "Le jeu de données \"**df**\" comprend **151112** transactions ce qui est conséquent.\n",
    "\n",
    "On s'aperçoit qu'il n'y a pas de valeurs manquantes."
   ]
  },
  {
   "cell_type": "code",
   "execution_count": 2,
   "id": "5cff7e86",
   "metadata": {},
   "outputs": [
    {
     "data": {
      "text/html": [
       "<div>\n",
       "<style scoped>\n",
       "    .dataframe tbody tr th:only-of-type {\n",
       "        vertical-align: middle;\n",
       "    }\n",
       "\n",
       "    .dataframe tbody tr th {\n",
       "        vertical-align: top;\n",
       "    }\n",
       "\n",
       "    .dataframe thead th {\n",
       "        text-align: right;\n",
       "    }\n",
       "</style>\n",
       "<table border=\"1\" class=\"dataframe\">\n",
       "  <thead>\n",
       "    <tr style=\"text-align: right;\">\n",
       "      <th></th>\n",
       "      <th>user_id</th>\n",
       "      <th>signup_time</th>\n",
       "      <th>purchase_time</th>\n",
       "      <th>purchase_value</th>\n",
       "      <th>device_id</th>\n",
       "      <th>source</th>\n",
       "      <th>browser</th>\n",
       "      <th>sex</th>\n",
       "      <th>age</th>\n",
       "      <th>ip_address</th>\n",
       "      <th>is_fraud</th>\n",
       "    </tr>\n",
       "  </thead>\n",
       "  <tbody>\n",
       "    <tr>\n",
       "      <th>0</th>\n",
       "      <td>22058</td>\n",
       "      <td>2015-02-24 22:55:49</td>\n",
       "      <td>2015-04-18 2:47:11</td>\n",
       "      <td>34</td>\n",
       "      <td>QVPSPJUOCKZAR</td>\n",
       "      <td>SEO</td>\n",
       "      <td>Chrome</td>\n",
       "      <td>M</td>\n",
       "      <td>39</td>\n",
       "      <td>7.327584e+08</td>\n",
       "      <td>0</td>\n",
       "    </tr>\n",
       "    <tr>\n",
       "      <th>1</th>\n",
       "      <td>333320</td>\n",
       "      <td>2015-06-07 20:39:50</td>\n",
       "      <td>2015-06-08 1:38:54</td>\n",
       "      <td>16</td>\n",
       "      <td>EOGFQPIZPYXFZ</td>\n",
       "      <td>Ads</td>\n",
       "      <td>Chrome</td>\n",
       "      <td>F</td>\n",
       "      <td>53</td>\n",
       "      <td>3.503114e+08</td>\n",
       "      <td>0</td>\n",
       "    </tr>\n",
       "    <tr>\n",
       "      <th>2</th>\n",
       "      <td>1359</td>\n",
       "      <td>2015-01-01 18:52:44</td>\n",
       "      <td>2015-01-01 18:52:45</td>\n",
       "      <td>15</td>\n",
       "      <td>YSSKYOSJHPPLJ</td>\n",
       "      <td>SEO</td>\n",
       "      <td>Opera</td>\n",
       "      <td>M</td>\n",
       "      <td>53</td>\n",
       "      <td>2.621474e+09</td>\n",
       "      <td>1</td>\n",
       "    </tr>\n",
       "    <tr>\n",
       "      <th>3</th>\n",
       "      <td>150084</td>\n",
       "      <td>2015-04-28 21:13:25</td>\n",
       "      <td>2015-05-04 13:54:50</td>\n",
       "      <td>44</td>\n",
       "      <td>ATGTXKYKUDUQN</td>\n",
       "      <td>SEO</td>\n",
       "      <td>Safari</td>\n",
       "      <td>M</td>\n",
       "      <td>41</td>\n",
       "      <td>3.840542e+09</td>\n",
       "      <td>0</td>\n",
       "    </tr>\n",
       "    <tr>\n",
       "      <th>4</th>\n",
       "      <td>221365</td>\n",
       "      <td>2015-07-21 7:09:52</td>\n",
       "      <td>2015-09-09 18:40:53</td>\n",
       "      <td>39</td>\n",
       "      <td>NAUITBZFJKHWW</td>\n",
       "      <td>Ads</td>\n",
       "      <td>Safari</td>\n",
       "      <td>M</td>\n",
       "      <td>45</td>\n",
       "      <td>4.155831e+08</td>\n",
       "      <td>0</td>\n",
       "    </tr>\n",
       "  </tbody>\n",
       "</table>\n",
       "</div>"
      ],
      "text/plain": [
       "   user_id          signup_time        purchase_time  purchase_value  \\\n",
       "0    22058  2015-02-24 22:55:49   2015-04-18 2:47:11              34   \n",
       "1   333320  2015-06-07 20:39:50   2015-06-08 1:38:54              16   \n",
       "2     1359  2015-01-01 18:52:44  2015-01-01 18:52:45              15   \n",
       "3   150084  2015-04-28 21:13:25  2015-05-04 13:54:50              44   \n",
       "4   221365   2015-07-21 7:09:52  2015-09-09 18:40:53              39   \n",
       "\n",
       "       device_id source browser sex  age    ip_address  is_fraud  \n",
       "0  QVPSPJUOCKZAR    SEO  Chrome   M   39  7.327584e+08         0  \n",
       "1  EOGFQPIZPYXFZ    Ads  Chrome   F   53  3.503114e+08         0  \n",
       "2  YSSKYOSJHPPLJ    SEO   Opera   M   53  2.621474e+09         1  \n",
       "3  ATGTXKYKUDUQN    SEO  Safari   M   41  3.840542e+09         0  \n",
       "4  NAUITBZFJKHWW    Ads  Safari   M   45  4.155831e+08         0  "
      ]
     },
     "execution_count": 2,
     "metadata": {},
     "output_type": "execute_result"
    }
   ],
   "source": [
    "df.head()"
   ]
  },
  {
   "cell_type": "markdown",
   "id": "80f605f2",
   "metadata": {},
   "source": [
    "En visualisant les 5 premières lignes de \"df\", on peut voir des variables quantitatives ainsi que de variables qualitatives."
   ]
  },
  {
   "cell_type": "code",
   "execution_count": 3,
   "id": "ba0ee514",
   "metadata": {},
   "outputs": [
    {
     "name": "stdout",
     "output_type": "stream",
     "text": [
      "0\n"
     ]
    }
   ],
   "source": [
    "print(df.duplicated().sum())"
   ]
  },
  {
   "cell_type": "markdown",
   "id": "61f4338b",
   "metadata": {},
   "source": [
    "La commande précédente nous montre qu'il n'y a aucune ligne identique."
   ]
  },
  {
   "cell_type": "markdown",
   "id": "0bb972bb",
   "metadata": {},
   "source": [
    "Pour la variable \"**sex**\", nous allons remplacer les valeurs \"**M**\" et \"**F**\" par **1** et **0** et nous en profiterons pour regarder leur proportion."
   ]
  },
  {
   "cell_type": "code",
   "execution_count": 4,
   "id": "05a9c9bd",
   "metadata": {},
   "outputs": [],
   "source": [
    "df.sex = df.sex.replace(['M', 'F'], [1, 0])"
   ]
  },
  {
   "cell_type": "code",
   "execution_count": 5,
   "id": "28ad163b",
   "metadata": {},
   "outputs": [
    {
     "data": {
      "image/png": "[encoded data removed]",
      "text/plain": [
       "<Figure size 648x432 with 1 Axes>"
      ]
     },
     "metadata": {},
     "output_type": "display_data"
    }
   ],
   "source": [
    "nbr_gender = df.sex.value_counts()\n",
    "plt.figure(figsize=(9,6))\n",
    "plt.pie(nbr_gender,\n",
    "       labels= ['Male','Female'],\n",
    "       autopct= lambda x: f\"{round(x,2)}%\",\n",
    "       shadow= True,\n",
    "        colors= ['blue', 'pink']\n",
    "       )\n",
    "plt.title('% gender')\n",
    "plt.legend();"
   ]
  },
  {
   "cell_type": "markdown",
   "id": "ee69f196",
   "metadata": {},
   "source": [
    "Pour continuer dans l'étude du profil type de l'acheteur, nous allons regarder la variable \"**âge**\" et la variable \"**purchase_value**\"."
   ]
  },
  {
   "cell_type": "code",
   "execution_count": 6,
   "id": "2ed97a70",
   "metadata": {},
   "outputs": [
    {
     "data": {
      "image/png": "[encoded data removed]",
      "text/plain": [
       "<Figure size 1224x504 with 2 Axes>"
      ]
     },
     "metadata": {
      "needs_background": "light"
     },
     "output_type": "display_data"
    }
   ],
   "source": [
    "plt.figure(figsize=(17,7))\n",
    "plt.subplot(121)\n",
    "plt.hist(df.age, bins= 30, rwidth=0.8, color='cyan', label=\"Age des acheteurs\")\n",
    "plt.title('Age des acheteurs par transactions')\n",
    "plt.legend()\n",
    "plt.subplot(122)\n",
    "plt.hist(df.purchase_value, bins= 30, rwidth=0.8, color='purple', label='Valeur des achats')\n",
    "plt.title('Valeur des achats par transactions')\n",
    "plt.legend();"
   ]
  },
  {
   "cell_type": "markdown",
   "id": "da2ab0e4",
   "metadata": {},
   "source": [
    "On constate que l'âge médian de l'acheteur est de **33 ans** et que la valeur médiane de ses achats est de **37€**."
   ]
  },
  {
   "cell_type": "markdown",
   "id": "b1a2a6e7",
   "metadata": {},
   "source": [
    "Nous allons vérifier le nombres de transactions frauduleuses par rapport à l'ensemble du set de données."
   ]
  },
  {
   "cell_type": "code",
   "execution_count": 7,
   "id": "dbc55635",
   "metadata": {},
   "outputs": [
    {
     "name": "stdout",
     "output_type": "stream",
     "text": [
      "0    136961\n",
      "1     14151\n",
      "Name: is_fraud, dtype: int64\n"
     ]
    },
    {
     "name": "stderr",
     "output_type": "stream",
     "text": [
      "C:\\Users\\Admin\\anaconda3\\lib\\site-packages\\seaborn\\_decorators.py:36: FutureWarning: Pass the following variable as a keyword arg: x. From version 0.12, the only valid positional argument will be `data`, and passing other arguments without an explicit keyword will result in an error or misinterpretation.\n",
      "  warnings.warn(\n"
     ]
    },
    {
     "data": {
      "image/png": "[encoded data removed]",
      "text/plain": [
       "<Figure size 432x288 with 1 Axes>"
      ]
     },
     "metadata": {
      "needs_background": "light"
     },
     "output_type": "display_data"
    }
   ],
   "source": [
    "print(df.is_fraud.value_counts())\n",
    "g = sns.countplot(df['is_fraud'])\n",
    "g.set_xticklabels(['Not Fraud', 'Fraud']);   "
   ]
  },
  {
   "cell_type": "markdown",
   "id": "eb24eea2",
   "metadata": {},
   "source": [
    "On peut s'apercevoir que les fraudes ne représente que 14151 transactions sur les 151112 soit un peu moins de **10%**."
   ]
  },
  {
   "cell_type": "markdown",
   "id": "596d9d4f",
   "metadata": {},
   "source": [
    "On peut regarder quel est le browser le plus utilisé pour des transactions frauduleuses."
   ]
  },
  {
   "cell_type": "code",
   "execution_count": 8,
   "id": "88a22c3e",
   "metadata": {},
   "outputs": [
    {
     "data": {
      "image/png": "[encoded data removed]",
      "text/plain": [
       "<Figure size 936x504 with 1 Axes>"
      ]
     },
     "metadata": {
      "needs_background": "light"
     },
     "output_type": "display_data"
    }
   ],
   "source": [
    "db = df.groupby(['browser']).agg({'browser': 'size'})\n",
    "function = {\n",
    "    'is_fraud': lambda is_fraud: (is_fraud == 1).sum()\n",
    "}\n",
    "\n",
    "ddb = df.groupby(['browser']).agg(function)\n",
    "plt.figure(figsize=(13,7))\n",
    "plt.bar(db.index, db.browser, color='yellow', label='Nbre de transactions par browser')\n",
    "plt.bar(ddb.index, ddb.is_fraud, color= 'green', label=\"Nbre de fraudes par browser\")\n",
    "plt.title('Proportions de fraudes par browser')\n",
    "plt.legend();"
   ]
  },
  {
   "cell_type": "markdown",
   "id": "350691cd",
   "metadata": {},
   "source": [
    "On s'aperçoit que Chrome est le plus lié à la fraude mais c'est aussi le plus utilisé.\n",
    "En fait on peut voir qu'environ 10% des transactions pour chaque browser sont des fraudes."
   ]
  },
  {
   "cell_type": "code",
   "execution_count": 9,
   "id": "7504c814",
   "metadata": {},
   "outputs": [
    {
     "data": {
      "image/png": "[encoded data removed]",
      "text/plain": [
       "<Figure size 720x432 with 1 Axes>"
      ]
     },
     "metadata": {
      "needs_background": "light"
     },
     "output_type": "display_data"
    }
   ],
   "source": [
    "de = df.groupby(['source']).agg({'source': 'size'})\n",
    "dde = df.groupby(['source']).agg(function)\n",
    "plt.figure(figsize=(10,6))\n",
    "plt.bar(de.index, de.source, color='red', label='Nbre de transactions par source')\n",
    "plt.bar(dde.index, dde.is_fraud, color= 'orange', label=\"Nbre de fraudes par source\")\n",
    "plt.title('Proportions de fraudes par source')\n",
    "plt.legend();"
   ]
  },
  {
   "cell_type": "markdown",
   "id": "1bc82621",
   "metadata": {},
   "source": [
    "Il en va de même pour les sources.\n",
    "Environ 10% des transactions par source sont des fraudes."
   ]
  },
  {
   "cell_type": "markdown",
   "id": "3a191bef",
   "metadata": {},
   "source": [
    "Si on veut visualiser le nombre de transactions par mois et la part des fraudes, il faut déja transformer la variable \"purchase_time\" en \"purchase_month\", \"purchase_day\", \"purchase_hour\", \"purchase_min\" et \"purchase_sec\"."
   ]
  },
  {
   "cell_type": "code",
   "execution_count": 10,
   "id": "3fe69559",
   "metadata": {},
   "outputs": [],
   "source": [
    "df['purchase_time'] = pd.to_datetime(df.purchase_time)\n",
    "df['purchase_month'] = df.purchase_time.dt.month\n",
    "df['purchase_day'] = df.purchase_time.dt.day\n",
    "df['purchase_hour'] = df.purchase_time.dt.hour\n",
    "df['purchase_minute'] = df.purchase_time.dt.minute\n",
    "df['purchase_second'] = df.purchase_time.dt.second"
   ]
  },
  {
   "cell_type": "code",
   "execution_count": 11,
   "id": "7d865338",
   "metadata": {},
   "outputs": [
    {
     "data": {
      "text/html": [
       "<div>\n",
       "<style scoped>\n",
       "    .dataframe tbody tr th:only-of-type {\n",
       "        vertical-align: middle;\n",
       "    }\n",
       "\n",
       "    .dataframe tbody tr th {\n",
       "        vertical-align: top;\n",
       "    }\n",
       "\n",
       "    .dataframe thead th {\n",
       "        text-align: right;\n",
       "    }\n",
       "</style>\n",
       "<table border=\"1\" class=\"dataframe\">\n",
       "  <thead>\n",
       "    <tr style=\"text-align: right;\">\n",
       "      <th></th>\n",
       "      <th></th>\n",
       "      <th>purchase_month</th>\n",
       "    </tr>\n",
       "    <tr>\n",
       "      <th>purchase_month</th>\n",
       "      <th>is_fraud</th>\n",
       "      <th></th>\n",
       "    </tr>\n",
       "  </thead>\n",
       "  <tbody>\n",
       "    <tr>\n",
       "      <th rowspan=\"2\" valign=\"top\">1</th>\n",
       "      <th>0</th>\n",
       "      <td>2374</td>\n",
       "    </tr>\n",
       "    <tr>\n",
       "      <th>1</th>\n",
       "      <td>7723</td>\n",
       "    </tr>\n",
       "    <tr>\n",
       "      <th rowspan=\"2\" valign=\"top\">2</th>\n",
       "      <th>0</th>\n",
       "      <td>6158</td>\n",
       "    </tr>\n",
       "    <tr>\n",
       "      <th>1</th>\n",
       "      <td>291</td>\n",
       "    </tr>\n",
       "    <tr>\n",
       "      <th rowspan=\"2\" valign=\"top\">3</th>\n",
       "      <th>0</th>\n",
       "      <td>11545</td>\n",
       "    </tr>\n",
       "    <tr>\n",
       "      <th>1</th>\n",
       "      <td>545</td>\n",
       "    </tr>\n",
       "    <tr>\n",
       "      <th rowspan=\"2\" valign=\"top\">4</th>\n",
       "      <th>0</th>\n",
       "      <td>15811</td>\n",
       "    </tr>\n",
       "    <tr>\n",
       "      <th>1</th>\n",
       "      <td>740</td>\n",
       "    </tr>\n",
       "    <tr>\n",
       "      <th rowspan=\"2\" valign=\"top\">5</th>\n",
       "      <th>0</th>\n",
       "      <td>18443</td>\n",
       "    </tr>\n",
       "    <tr>\n",
       "      <th>1</th>\n",
       "      <td>921</td>\n",
       "    </tr>\n",
       "    <tr>\n",
       "      <th rowspan=\"2\" valign=\"top\">6</th>\n",
       "      <th>0</th>\n",
       "      <td>18066</td>\n",
       "    </tr>\n",
       "    <tr>\n",
       "      <th>1</th>\n",
       "      <td>842</td>\n",
       "    </tr>\n",
       "    <tr>\n",
       "      <th rowspan=\"2\" valign=\"top\">7</th>\n",
       "      <th>0</th>\n",
       "      <td>18607</td>\n",
       "    </tr>\n",
       "    <tr>\n",
       "      <th>1</th>\n",
       "      <td>900</td>\n",
       "    </tr>\n",
       "    <tr>\n",
       "      <th rowspan=\"2\" valign=\"top\">8</th>\n",
       "      <th>0</th>\n",
       "      <td>17829</td>\n",
       "    </tr>\n",
       "    <tr>\n",
       "      <th>1</th>\n",
       "      <td>833</td>\n",
       "    </tr>\n",
       "    <tr>\n",
       "      <th rowspan=\"2\" valign=\"top\">9</th>\n",
       "      <th>0</th>\n",
       "      <td>13684</td>\n",
       "    </tr>\n",
       "    <tr>\n",
       "      <th>1</th>\n",
       "      <td>663</td>\n",
       "    </tr>\n",
       "    <tr>\n",
       "      <th rowspan=\"2\" valign=\"top\">10</th>\n",
       "      <th>0</th>\n",
       "      <td>9373</td>\n",
       "    </tr>\n",
       "    <tr>\n",
       "      <th>1</th>\n",
       "      <td>442</td>\n",
       "    </tr>\n",
       "    <tr>\n",
       "      <th rowspan=\"2\" valign=\"top\">11</th>\n",
       "      <th>0</th>\n",
       "      <td>4527</td>\n",
       "    </tr>\n",
       "    <tr>\n",
       "      <th>1</th>\n",
       "      <td>216</td>\n",
       "    </tr>\n",
       "    <tr>\n",
       "      <th rowspan=\"2\" valign=\"top\">12</th>\n",
       "      <th>0</th>\n",
       "      <td>544</td>\n",
       "    </tr>\n",
       "    <tr>\n",
       "      <th>1</th>\n",
       "      <td>35</td>\n",
       "    </tr>\n",
       "  </tbody>\n",
       "</table>\n",
       "</div>"
      ],
      "text/plain": [
       "                         purchase_month\n",
       "purchase_month is_fraud                \n",
       "1              0                   2374\n",
       "               1                   7723\n",
       "2              0                   6158\n",
       "               1                    291\n",
       "3              0                  11545\n",
       "               1                    545\n",
       "4              0                  15811\n",
       "               1                    740\n",
       "5              0                  18443\n",
       "               1                    921\n",
       "6              0                  18066\n",
       "               1                    842\n",
       "7              0                  18607\n",
       "               1                    900\n",
       "8              0                  17829\n",
       "               1                    833\n",
       "9              0                  13684\n",
       "               1                    663\n",
       "10             0                   9373\n",
       "               1                    442\n",
       "11             0                   4527\n",
       "               1                    216\n",
       "12             0                    544\n",
       "               1                     35"
      ]
     },
     "execution_count": 11,
     "metadata": {},
     "output_type": "execute_result"
    }
   ],
   "source": [
    "dd = df.groupby(['purchase_month', 'is_fraud']).agg({'purchase_month': 'size'})\n",
    "dd"
   ]
  },
  {
   "cell_type": "markdown",
   "id": "a245897c",
   "metadata": {},
   "source": [
    "On s'aperçoit qu'au mois de Janvier, les fraudes représentent 76,5% des transactions.\n",
    "\n",
    "C'est plus calme le reste de l'année.\n",
    "\n",
    "Afin de le visualiser sur un graphique, on a besoin de créer 2 dataframes."
   ]
  },
  {
   "cell_type": "code",
   "execution_count": 12,
   "id": "6823f95e",
   "metadata": {},
   "outputs": [],
   "source": [
    "dc = df.groupby(['purchase_month']).agg({'purchase_month': 'size'})\n",
    "dg = df.groupby(['purchase_month']).agg(function)"
   ]
  },
  {
   "cell_type": "markdown",
   "id": "16793526",
   "metadata": {},
   "source": [
    "Maintenant qu'on a ces 2 dataframes, on peut lancer notre visualisation."
   ]
  },
  {
   "cell_type": "code",
   "execution_count": 13,
   "id": "96e4ee25",
   "metadata": {
    "scrolled": true
   },
   "outputs": [
    {
     "data": {
      "image/png": "[encoded data removed]",
      "text/plain": [
       "<Figure size 864x360 with 1 Axes>"
      ]
     },
     "metadata": {
      "needs_background": "light"
     },
     "output_type": "display_data"
    }
   ],
   "source": [
    "dg.is_fraud = dg.is_fraud/dc.purchase_month*100\n",
    "dc.purchase_month = dc.purchase_month/dc.purchase_month*100\n",
    "plt.figure(figsize=(12,5))\n",
    "plt.bar(dc.index, dc.purchase_month, color='cyan', label='Transactions normalisées par mois')\n",
    "plt.bar(dg.index, dg.is_fraud, color='yellow', label= 'Fraudes normalisées par mois')\n",
    "plt.xticks([1,3,5,7,9,12], ['Janvier', 'Mars', 'Mai', 'Juillet', 'Septembre', 'Decembre'])\n",
    "plt.xlabel('Mois')\n",
    "plt.ylabel('Transactions normalisées')\n",
    "plt.title('Transactions et fraudes par mois')\n",
    "plt.legend();"
   ]
  },
  {
   "cell_type": "markdown",
   "id": "06433b16",
   "metadata": {},
   "source": [
    "Comme on l'a vu, beaucoup de fraudes ont eu lieu au mois de Janvier, on va donc classer le \"df\" par date de \"purchase_time\"."
   ]
  },
  {
   "cell_type": "code",
   "execution_count": 14,
   "id": "bd2da972",
   "metadata": {},
   "outputs": [
    {
     "data": {
      "text/html": [
       "<div>\n",
       "<style scoped>\n",
       "    .dataframe tbody tr th:only-of-type {\n",
       "        vertical-align: middle;\n",
       "    }\n",
       "\n",
       "    .dataframe tbody tr th {\n",
       "        vertical-align: top;\n",
       "    }\n",
       "\n",
       "    .dataframe thead th {\n",
       "        text-align: right;\n",
       "    }\n",
       "</style>\n",
       "<table border=\"1\" class=\"dataframe\">\n",
       "  <thead>\n",
       "    <tr style=\"text-align: right;\">\n",
       "      <th></th>\n",
       "      <th>user_id</th>\n",
       "      <th>signup_time</th>\n",
       "      <th>purchase_time</th>\n",
       "      <th>purchase_value</th>\n",
       "      <th>device_id</th>\n",
       "      <th>source</th>\n",
       "      <th>browser</th>\n",
       "      <th>sex</th>\n",
       "      <th>age</th>\n",
       "      <th>ip_address</th>\n",
       "      <th>is_fraud</th>\n",
       "      <th>purchase_month</th>\n",
       "      <th>purchase_day</th>\n",
       "      <th>purchase_hour</th>\n",
       "      <th>purchase_minute</th>\n",
       "      <th>purchase_second</th>\n",
       "    </tr>\n",
       "  </thead>\n",
       "  <tbody>\n",
       "    <tr>\n",
       "      <th>115086</th>\n",
       "      <td>309557</td>\n",
       "      <td>2015-01-01 0:00:43</td>\n",
       "      <td>2015-01-01 00:00:44</td>\n",
       "      <td>14</td>\n",
       "      <td>BBPACGBUVJUXF</td>\n",
       "      <td>Ads</td>\n",
       "      <td>Chrome</td>\n",
       "      <td>0</td>\n",
       "      <td>38</td>\n",
       "      <td>2.001426e+09</td>\n",
       "      <td>1</td>\n",
       "      <td>1</td>\n",
       "      <td>1</td>\n",
       "      <td>0</td>\n",
       "      <td>0</td>\n",
       "      <td>44</td>\n",
       "    </tr>\n",
       "    <tr>\n",
       "      <th>41990</th>\n",
       "      <td>124539</td>\n",
       "      <td>2015-01-01 0:00:44</td>\n",
       "      <td>2015-01-01 00:00:45</td>\n",
       "      <td>14</td>\n",
       "      <td>BBPACGBUVJUXF</td>\n",
       "      <td>Ads</td>\n",
       "      <td>Chrome</td>\n",
       "      <td>0</td>\n",
       "      <td>38</td>\n",
       "      <td>2.001426e+09</td>\n",
       "      <td>1</td>\n",
       "      <td>1</td>\n",
       "      <td>1</td>\n",
       "      <td>0</td>\n",
       "      <td>0</td>\n",
       "      <td>45</td>\n",
       "    </tr>\n",
       "    <tr>\n",
       "      <th>134836</th>\n",
       "      <td>161246</td>\n",
       "      <td>2015-01-01 0:00:45</td>\n",
       "      <td>2015-01-01 00:00:46</td>\n",
       "      <td>14</td>\n",
       "      <td>BBPACGBUVJUXF</td>\n",
       "      <td>Ads</td>\n",
       "      <td>Chrome</td>\n",
       "      <td>0</td>\n",
       "      <td>38</td>\n",
       "      <td>2.001426e+09</td>\n",
       "      <td>1</td>\n",
       "      <td>1</td>\n",
       "      <td>1</td>\n",
       "      <td>0</td>\n",
       "      <td>0</td>\n",
       "      <td>46</td>\n",
       "    </tr>\n",
       "    <tr>\n",
       "      <th>24572</th>\n",
       "      <td>356414</td>\n",
       "      <td>2015-01-01 0:00:46</td>\n",
       "      <td>2015-01-01 00:00:47</td>\n",
       "      <td>14</td>\n",
       "      <td>BBPACGBUVJUXF</td>\n",
       "      <td>Ads</td>\n",
       "      <td>Chrome</td>\n",
       "      <td>0</td>\n",
       "      <td>38</td>\n",
       "      <td>2.001426e+09</td>\n",
       "      <td>1</td>\n",
       "      <td>1</td>\n",
       "      <td>1</td>\n",
       "      <td>0</td>\n",
       "      <td>0</td>\n",
       "      <td>47</td>\n",
       "    </tr>\n",
       "    <tr>\n",
       "      <th>106160</th>\n",
       "      <td>338656</td>\n",
       "      <td>2015-01-01 0:00:47</td>\n",
       "      <td>2015-01-01 00:00:48</td>\n",
       "      <td>14</td>\n",
       "      <td>BBPACGBUVJUXF</td>\n",
       "      <td>Ads</td>\n",
       "      <td>Chrome</td>\n",
       "      <td>0</td>\n",
       "      <td>38</td>\n",
       "      <td>2.001426e+09</td>\n",
       "      <td>1</td>\n",
       "      <td>1</td>\n",
       "      <td>1</td>\n",
       "      <td>0</td>\n",
       "      <td>0</td>\n",
       "      <td>48</td>\n",
       "    </tr>\n",
       "  </tbody>\n",
       "</table>\n",
       "</div>"
      ],
      "text/plain": [
       "        user_id         signup_time       purchase_time  purchase_value  \\\n",
       "115086   309557  2015-01-01 0:00:43 2015-01-01 00:00:44              14   \n",
       "41990    124539  2015-01-01 0:00:44 2015-01-01 00:00:45              14   \n",
       "134836   161246  2015-01-01 0:00:45 2015-01-01 00:00:46              14   \n",
       "24572    356414  2015-01-01 0:00:46 2015-01-01 00:00:47              14   \n",
       "106160   338656  2015-01-01 0:00:47 2015-01-01 00:00:48              14   \n",
       "\n",
       "            device_id source browser  sex  age    ip_address  is_fraud  \\\n",
       "115086  BBPACGBUVJUXF    Ads  Chrome    0   38  2.001426e+09         1   \n",
       "41990   BBPACGBUVJUXF    Ads  Chrome    0   38  2.001426e+09         1   \n",
       "134836  BBPACGBUVJUXF    Ads  Chrome    0   38  2.001426e+09         1   \n",
       "24572   BBPACGBUVJUXF    Ads  Chrome    0   38  2.001426e+09         1   \n",
       "106160  BBPACGBUVJUXF    Ads  Chrome    0   38  2.001426e+09         1   \n",
       "\n",
       "        purchase_month  purchase_day  purchase_hour  purchase_minute  \\\n",
       "115086               1             1              0                0   \n",
       "41990                1             1              0                0   \n",
       "134836               1             1              0                0   \n",
       "24572                1             1              0                0   \n",
       "106160               1             1              0                0   \n",
       "\n",
       "        purchase_second  \n",
       "115086               44  \n",
       "41990                45  \n",
       "134836               46  \n",
       "24572                47  \n",
       "106160               48  "
      ]
     },
     "execution_count": 14,
     "metadata": {},
     "output_type": "execute_result"
    }
   ],
   "source": [
    "df.sort_values(by='purchase_time').head()"
   ]
  },
  {
   "cell_type": "markdown",
   "id": "02f8eb46",
   "metadata": {},
   "source": [
    "En regardant bien, on s'apercoit de 2 choses très intriguantes:\n",
    "- la meme valeur de \"ip_address\" correspond à la même valeur de \"device_id\" mais à plusieurs valeurs différentes de \"user_id\".\n",
    "- il n'y a qu'une seconde de différence entre l'heure d'achat et l'heure de connexion au compte."
   ]
  },
  {
   "cell_type": "markdown",
   "id": "94133b21",
   "metadata": {},
   "source": [
    "Si on cherche les transactions pour la première valeur de \"device_id\" et qu'on regarde si elles correspondent à des fraudes, on obtient:"
   ]
  },
  {
   "cell_type": "code",
   "execution_count": 15,
   "id": "aa4bdf8b",
   "metadata": {},
   "outputs": [
    {
     "data": {
      "text/html": [
       "<div>\n",
       "<style scoped>\n",
       "    .dataframe tbody tr th:only-of-type {\n",
       "        vertical-align: middle;\n",
       "    }\n",
       "\n",
       "    .dataframe tbody tr th {\n",
       "        vertical-align: top;\n",
       "    }\n",
       "\n",
       "    .dataframe thead th {\n",
       "        text-align: right;\n",
       "    }\n",
       "</style>\n",
       "<table border=\"1\" class=\"dataframe\">\n",
       "  <thead>\n",
       "    <tr style=\"text-align: right;\">\n",
       "      <th></th>\n",
       "      <th>user_id</th>\n",
       "      <th>signup_time</th>\n",
       "      <th>purchase_time</th>\n",
       "      <th>purchase_value</th>\n",
       "      <th>device_id</th>\n",
       "      <th>source</th>\n",
       "      <th>browser</th>\n",
       "      <th>sex</th>\n",
       "      <th>age</th>\n",
       "      <th>ip_address</th>\n",
       "      <th>is_fraud</th>\n",
       "      <th>purchase_month</th>\n",
       "      <th>purchase_day</th>\n",
       "      <th>purchase_hour</th>\n",
       "      <th>purchase_minute</th>\n",
       "      <th>purchase_second</th>\n",
       "    </tr>\n",
       "  </thead>\n",
       "  <tbody>\n",
       "    <tr>\n",
       "      <th>24572</th>\n",
       "      <td>356414</td>\n",
       "      <td>2015-01-01 0:00:46</td>\n",
       "      <td>2015-01-01 00:00:47</td>\n",
       "      <td>14</td>\n",
       "      <td>BBPACGBUVJUXF</td>\n",
       "      <td>Ads</td>\n",
       "      <td>Chrome</td>\n",
       "      <td>0</td>\n",
       "      <td>38</td>\n",
       "      <td>2.001426e+09</td>\n",
       "      <td>1</td>\n",
       "      <td>1</td>\n",
       "      <td>1</td>\n",
       "      <td>0</td>\n",
       "      <td>0</td>\n",
       "      <td>47</td>\n",
       "    </tr>\n",
       "    <tr>\n",
       "      <th>41990</th>\n",
       "      <td>124539</td>\n",
       "      <td>2015-01-01 0:00:44</td>\n",
       "      <td>2015-01-01 00:00:45</td>\n",
       "      <td>14</td>\n",
       "      <td>BBPACGBUVJUXF</td>\n",
       "      <td>Ads</td>\n",
       "      <td>Chrome</td>\n",
       "      <td>0</td>\n",
       "      <td>38</td>\n",
       "      <td>2.001426e+09</td>\n",
       "      <td>1</td>\n",
       "      <td>1</td>\n",
       "      <td>1</td>\n",
       "      <td>0</td>\n",
       "      <td>0</td>\n",
       "      <td>45</td>\n",
       "    </tr>\n",
       "    <tr>\n",
       "      <th>82378</th>\n",
       "      <td>36229</td>\n",
       "      <td>2015-01-01 0:00:48</td>\n",
       "      <td>2015-01-01 00:00:49</td>\n",
       "      <td>14</td>\n",
       "      <td>BBPACGBUVJUXF</td>\n",
       "      <td>Ads</td>\n",
       "      <td>Chrome</td>\n",
       "      <td>0</td>\n",
       "      <td>38</td>\n",
       "      <td>2.001426e+09</td>\n",
       "      <td>1</td>\n",
       "      <td>1</td>\n",
       "      <td>1</td>\n",
       "      <td>0</td>\n",
       "      <td>0</td>\n",
       "      <td>49</td>\n",
       "    </tr>\n",
       "    <tr>\n",
       "      <th>106160</th>\n",
       "      <td>338656</td>\n",
       "      <td>2015-01-01 0:00:47</td>\n",
       "      <td>2015-01-01 00:00:48</td>\n",
       "      <td>14</td>\n",
       "      <td>BBPACGBUVJUXF</td>\n",
       "      <td>Ads</td>\n",
       "      <td>Chrome</td>\n",
       "      <td>0</td>\n",
       "      <td>38</td>\n",
       "      <td>2.001426e+09</td>\n",
       "      <td>1</td>\n",
       "      <td>1</td>\n",
       "      <td>1</td>\n",
       "      <td>0</td>\n",
       "      <td>0</td>\n",
       "      <td>48</td>\n",
       "    </tr>\n",
       "    <tr>\n",
       "      <th>113077</th>\n",
       "      <td>145628</td>\n",
       "      <td>2015-01-01 0:00:51</td>\n",
       "      <td>2015-01-01 00:00:52</td>\n",
       "      <td>14</td>\n",
       "      <td>BBPACGBUVJUXF</td>\n",
       "      <td>Ads</td>\n",
       "      <td>Chrome</td>\n",
       "      <td>0</td>\n",
       "      <td>38</td>\n",
       "      <td>2.001426e+09</td>\n",
       "      <td>1</td>\n",
       "      <td>1</td>\n",
       "      <td>1</td>\n",
       "      <td>0</td>\n",
       "      <td>0</td>\n",
       "      <td>52</td>\n",
       "    </tr>\n",
       "    <tr>\n",
       "      <th>115086</th>\n",
       "      <td>309557</td>\n",
       "      <td>2015-01-01 0:00:43</td>\n",
       "      <td>2015-01-01 00:00:44</td>\n",
       "      <td>14</td>\n",
       "      <td>BBPACGBUVJUXF</td>\n",
       "      <td>Ads</td>\n",
       "      <td>Chrome</td>\n",
       "      <td>0</td>\n",
       "      <td>38</td>\n",
       "      <td>2.001426e+09</td>\n",
       "      <td>1</td>\n",
       "      <td>1</td>\n",
       "      <td>1</td>\n",
       "      <td>0</td>\n",
       "      <td>0</td>\n",
       "      <td>44</td>\n",
       "    </tr>\n",
       "    <tr>\n",
       "      <th>134836</th>\n",
       "      <td>161246</td>\n",
       "      <td>2015-01-01 0:00:45</td>\n",
       "      <td>2015-01-01 00:00:46</td>\n",
       "      <td>14</td>\n",
       "      <td>BBPACGBUVJUXF</td>\n",
       "      <td>Ads</td>\n",
       "      <td>Chrome</td>\n",
       "      <td>0</td>\n",
       "      <td>38</td>\n",
       "      <td>2.001426e+09</td>\n",
       "      <td>1</td>\n",
       "      <td>1</td>\n",
       "      <td>1</td>\n",
       "      <td>0</td>\n",
       "      <td>0</td>\n",
       "      <td>46</td>\n",
       "    </tr>\n",
       "    <tr>\n",
       "      <th>138676</th>\n",
       "      <td>156748</td>\n",
       "      <td>2015-01-01 0:00:50</td>\n",
       "      <td>2015-01-01 00:00:51</td>\n",
       "      <td>14</td>\n",
       "      <td>BBPACGBUVJUXF</td>\n",
       "      <td>Ads</td>\n",
       "      <td>Chrome</td>\n",
       "      <td>0</td>\n",
       "      <td>38</td>\n",
       "      <td>2.001426e+09</td>\n",
       "      <td>1</td>\n",
       "      <td>1</td>\n",
       "      <td>1</td>\n",
       "      <td>0</td>\n",
       "      <td>0</td>\n",
       "      <td>51</td>\n",
       "    </tr>\n",
       "    <tr>\n",
       "      <th>140340</th>\n",
       "      <td>143242</td>\n",
       "      <td>2015-01-01 0:00:49</td>\n",
       "      <td>2015-01-01 00:00:50</td>\n",
       "      <td>14</td>\n",
       "      <td>BBPACGBUVJUXF</td>\n",
       "      <td>Ads</td>\n",
       "      <td>Chrome</td>\n",
       "      <td>0</td>\n",
       "      <td>38</td>\n",
       "      <td>2.001426e+09</td>\n",
       "      <td>1</td>\n",
       "      <td>1</td>\n",
       "      <td>1</td>\n",
       "      <td>0</td>\n",
       "      <td>0</td>\n",
       "      <td>50</td>\n",
       "    </tr>\n",
       "  </tbody>\n",
       "</table>\n",
       "</div>"
      ],
      "text/plain": [
       "        user_id         signup_time       purchase_time  purchase_value  \\\n",
       "24572    356414  2015-01-01 0:00:46 2015-01-01 00:00:47              14   \n",
       "41990    124539  2015-01-01 0:00:44 2015-01-01 00:00:45              14   \n",
       "82378     36229  2015-01-01 0:00:48 2015-01-01 00:00:49              14   \n",
       "106160   338656  2015-01-01 0:00:47 2015-01-01 00:00:48              14   \n",
       "113077   145628  2015-01-01 0:00:51 2015-01-01 00:00:52              14   \n",
       "115086   309557  2015-01-01 0:00:43 2015-01-01 00:00:44              14   \n",
       "134836   161246  2015-01-01 0:00:45 2015-01-01 00:00:46              14   \n",
       "138676   156748  2015-01-01 0:00:50 2015-01-01 00:00:51              14   \n",
       "140340   143242  2015-01-01 0:00:49 2015-01-01 00:00:50              14   \n",
       "\n",
       "            device_id source browser  sex  age    ip_address  is_fraud  \\\n",
       "24572   BBPACGBUVJUXF    Ads  Chrome    0   38  2.001426e+09         1   \n",
       "41990   BBPACGBUVJUXF    Ads  Chrome    0   38  2.001426e+09         1   \n",
       "82378   BBPACGBUVJUXF    Ads  Chrome    0   38  2.001426e+09         1   \n",
       "106160  BBPACGBUVJUXF    Ads  Chrome    0   38  2.001426e+09         1   \n",
       "113077  BBPACGBUVJUXF    Ads  Chrome    0   38  2.001426e+09         1   \n",
       "115086  BBPACGBUVJUXF    Ads  Chrome    0   38  2.001426e+09         1   \n",
       "134836  BBPACGBUVJUXF    Ads  Chrome    0   38  2.001426e+09         1   \n",
       "138676  BBPACGBUVJUXF    Ads  Chrome    0   38  2.001426e+09         1   \n",
       "140340  BBPACGBUVJUXF    Ads  Chrome    0   38  2.001426e+09         1   \n",
       "\n",
       "        purchase_month  purchase_day  purchase_hour  purchase_minute  \\\n",
       "24572                1             1              0                0   \n",
       "41990                1             1              0                0   \n",
       "82378                1             1              0                0   \n",
       "106160               1             1              0                0   \n",
       "113077               1             1              0                0   \n",
       "115086               1             1              0                0   \n",
       "134836               1             1              0                0   \n",
       "138676               1             1              0                0   \n",
       "140340               1             1              0                0   \n",
       "\n",
       "        purchase_second  \n",
       "24572                47  \n",
       "41990                45  \n",
       "82378                49  \n",
       "106160               48  \n",
       "113077               52  \n",
       "115086               44  \n",
       "134836               46  \n",
       "138676               51  \n",
       "140340               50  "
      ]
     },
     "execution_count": 15,
     "metadata": {},
     "output_type": "execute_result"
    }
   ],
   "source": [
    "df[(df['device_id'] == 'BBPACGBUVJUXF') & (df['is_fraud'] == 1)]"
   ]
  },
  {
   "cell_type": "markdown",
   "id": "89632764",
   "metadata": {},
   "source": [
    "On s'aperçoit que la valeur \"BBPACGBUVJUXF\" correspond à 9 transactions frauduleuses."
   ]
  },
  {
   "cell_type": "markdown",
   "id": "f65c2a59",
   "metadata": {},
   "source": [
    "Etant donné qu'il a été montré que plusieurs achats frauduleux ont été effectués une seconde seulement après la connexion au compte, on va transformer la variable \"signup_time\" comme on l'a fait pour la variable \"purchase_time\"."
   ]
  },
  {
   "cell_type": "code",
   "execution_count": 16,
   "id": "816bdef5",
   "metadata": {},
   "outputs": [],
   "source": [
    "df['signup_time'] = pd.to_datetime(df.signup_time)\n",
    "df['signup_month'] = df.signup_time.dt.month\n",
    "df['signup_day'] = df.signup_time.dt.day\n",
    "df['signup_hour'] = df.signup_time.dt.hour\n",
    "df['signup_minute'] = df.signup_time.dt.minute\n",
    "df['signup_second'] = df.signup_time.dt.second"
   ]
  },
  {
   "cell_type": "markdown",
   "id": "86021176",
   "metadata": {},
   "source": [
    "On peut maintenant regarder combien de transactions ont eu lieu une seconde après la connexion."
   ]
  },
  {
   "cell_type": "code",
   "execution_count": 17,
   "id": "26cdc917",
   "metadata": {},
   "outputs": [
    {
     "data": {
      "text/plain": [
       "0 days 00:00:01      7600\n",
       "92 days 08:07:58        1\n",
       "9 days 20:05:24         1\n",
       "102 days 21:19:44       1\n",
       "111 days 12:20:44       1\n",
       "                     ... \n",
       "45 days 14:03:48        1\n",
       "113 days 13:00:09       1\n",
       "89 days 11:08:46        1\n",
       "9 days 17:59:32         1\n",
       "22 days 04:38:52        1\n",
       "Name: diff_time, Length: 143513, dtype: int64"
      ]
     },
     "execution_count": 17,
     "metadata": {},
     "output_type": "execute_result"
    }
   ],
   "source": [
    "df['diff_time'] = df['purchase_time'] - df['signup_time']\n",
    "df.diff_time.value_counts()"
   ]
  },
  {
   "cell_type": "markdown",
   "id": "e07ec1d3",
   "metadata": {},
   "source": [
    "Il y a 7600 transactions de ce genre."
   ]
  },
  {
   "cell_type": "markdown",
   "id": "dbf3ee53",
   "metadata": {},
   "source": [
    "Nous allons ensuite dichotomiser les variables \"source\" et \"browser\"."
   ]
  },
  {
   "cell_type": "code",
   "execution_count": 18,
   "id": "5ce994dc",
   "metadata": {},
   "outputs": [],
   "source": [
    "df = df.join(pd.get_dummies(df['source'], prefix='source'))\n",
    "df = df.join(pd.get_dummies(df['browser'], prefix='browser'))"
   ]
  },
  {
   "cell_type": "markdown",
   "id": "d43a3a38",
   "metadata": {},
   "source": [
    "On obtient donc le dataframe avec des nouvelles colonnes."
   ]
  },
  {
   "cell_type": "code",
   "execution_count": 19,
   "id": "531310b2",
   "metadata": {},
   "outputs": [
    {
     "data": {
      "text/html": [
       "<div>\n",
       "<style scoped>\n",
       "    .dataframe tbody tr th:only-of-type {\n",
       "        vertical-align: middle;\n",
       "    }\n",
       "\n",
       "    .dataframe tbody tr th {\n",
       "        vertical-align: top;\n",
       "    }\n",
       "\n",
       "    .dataframe thead th {\n",
       "        text-align: right;\n",
       "    }\n",
       "</style>\n",
       "<table border=\"1\" class=\"dataframe\">\n",
       "  <thead>\n",
       "    <tr style=\"text-align: right;\">\n",
       "      <th></th>\n",
       "      <th>user_id</th>\n",
       "      <th>signup_time</th>\n",
       "      <th>purchase_time</th>\n",
       "      <th>purchase_value</th>\n",
       "      <th>device_id</th>\n",
       "      <th>source</th>\n",
       "      <th>browser</th>\n",
       "      <th>sex</th>\n",
       "      <th>age</th>\n",
       "      <th>ip_address</th>\n",
       "      <th>...</th>\n",
       "      <th>signup_second</th>\n",
       "      <th>diff_time</th>\n",
       "      <th>source_Ads</th>\n",
       "      <th>source_Direct</th>\n",
       "      <th>source_SEO</th>\n",
       "      <th>browser_Chrome</th>\n",
       "      <th>browser_FireFox</th>\n",
       "      <th>browser_IE</th>\n",
       "      <th>browser_Opera</th>\n",
       "      <th>browser_Safari</th>\n",
       "    </tr>\n",
       "  </thead>\n",
       "  <tbody>\n",
       "    <tr>\n",
       "      <th>0</th>\n",
       "      <td>22058</td>\n",
       "      <td>2015-02-24 22:55:49</td>\n",
       "      <td>2015-04-18 02:47:11</td>\n",
       "      <td>34</td>\n",
       "      <td>QVPSPJUOCKZAR</td>\n",
       "      <td>SEO</td>\n",
       "      <td>Chrome</td>\n",
       "      <td>1</td>\n",
       "      <td>39</td>\n",
       "      <td>7.327584e+08</td>\n",
       "      <td>...</td>\n",
       "      <td>49</td>\n",
       "      <td>52 days 03:51:22</td>\n",
       "      <td>0</td>\n",
       "      <td>0</td>\n",
       "      <td>1</td>\n",
       "      <td>1</td>\n",
       "      <td>0</td>\n",
       "      <td>0</td>\n",
       "      <td>0</td>\n",
       "      <td>0</td>\n",
       "    </tr>\n",
       "    <tr>\n",
       "      <th>1</th>\n",
       "      <td>333320</td>\n",
       "      <td>2015-06-07 20:39:50</td>\n",
       "      <td>2015-06-08 01:38:54</td>\n",
       "      <td>16</td>\n",
       "      <td>EOGFQPIZPYXFZ</td>\n",
       "      <td>Ads</td>\n",
       "      <td>Chrome</td>\n",
       "      <td>0</td>\n",
       "      <td>53</td>\n",
       "      <td>3.503114e+08</td>\n",
       "      <td>...</td>\n",
       "      <td>50</td>\n",
       "      <td>0 days 04:59:04</td>\n",
       "      <td>1</td>\n",
       "      <td>0</td>\n",
       "      <td>0</td>\n",
       "      <td>1</td>\n",
       "      <td>0</td>\n",
       "      <td>0</td>\n",
       "      <td>0</td>\n",
       "      <td>0</td>\n",
       "    </tr>\n",
       "    <tr>\n",
       "      <th>2</th>\n",
       "      <td>1359</td>\n",
       "      <td>2015-01-01 18:52:44</td>\n",
       "      <td>2015-01-01 18:52:45</td>\n",
       "      <td>15</td>\n",
       "      <td>YSSKYOSJHPPLJ</td>\n",
       "      <td>SEO</td>\n",
       "      <td>Opera</td>\n",
       "      <td>1</td>\n",
       "      <td>53</td>\n",
       "      <td>2.621474e+09</td>\n",
       "      <td>...</td>\n",
       "      <td>44</td>\n",
       "      <td>0 days 00:00:01</td>\n",
       "      <td>0</td>\n",
       "      <td>0</td>\n",
       "      <td>1</td>\n",
       "      <td>0</td>\n",
       "      <td>0</td>\n",
       "      <td>0</td>\n",
       "      <td>1</td>\n",
       "      <td>0</td>\n",
       "    </tr>\n",
       "    <tr>\n",
       "      <th>3</th>\n",
       "      <td>150084</td>\n",
       "      <td>2015-04-28 21:13:25</td>\n",
       "      <td>2015-05-04 13:54:50</td>\n",
       "      <td>44</td>\n",
       "      <td>ATGTXKYKUDUQN</td>\n",
       "      <td>SEO</td>\n",
       "      <td>Safari</td>\n",
       "      <td>1</td>\n",
       "      <td>41</td>\n",
       "      <td>3.840542e+09</td>\n",
       "      <td>...</td>\n",
       "      <td>25</td>\n",
       "      <td>5 days 16:41:25</td>\n",
       "      <td>0</td>\n",
       "      <td>0</td>\n",
       "      <td>1</td>\n",
       "      <td>0</td>\n",
       "      <td>0</td>\n",
       "      <td>0</td>\n",
       "      <td>0</td>\n",
       "      <td>1</td>\n",
       "    </tr>\n",
       "    <tr>\n",
       "      <th>4</th>\n",
       "      <td>221365</td>\n",
       "      <td>2015-07-21 07:09:52</td>\n",
       "      <td>2015-09-09 18:40:53</td>\n",
       "      <td>39</td>\n",
       "      <td>NAUITBZFJKHWW</td>\n",
       "      <td>Ads</td>\n",
       "      <td>Safari</td>\n",
       "      <td>1</td>\n",
       "      <td>45</td>\n",
       "      <td>4.155831e+08</td>\n",
       "      <td>...</td>\n",
       "      <td>52</td>\n",
       "      <td>50 days 11:31:01</td>\n",
       "      <td>1</td>\n",
       "      <td>0</td>\n",
       "      <td>0</td>\n",
       "      <td>0</td>\n",
       "      <td>0</td>\n",
       "      <td>0</td>\n",
       "      <td>0</td>\n",
       "      <td>1</td>\n",
       "    </tr>\n",
       "    <tr>\n",
       "      <th>...</th>\n",
       "      <td>...</td>\n",
       "      <td>...</td>\n",
       "      <td>...</td>\n",
       "      <td>...</td>\n",
       "      <td>...</td>\n",
       "      <td>...</td>\n",
       "      <td>...</td>\n",
       "      <td>...</td>\n",
       "      <td>...</td>\n",
       "      <td>...</td>\n",
       "      <td>...</td>\n",
       "      <td>...</td>\n",
       "      <td>...</td>\n",
       "      <td>...</td>\n",
       "      <td>...</td>\n",
       "      <td>...</td>\n",
       "      <td>...</td>\n",
       "      <td>...</td>\n",
       "      <td>...</td>\n",
       "      <td>...</td>\n",
       "      <td>...</td>\n",
       "    </tr>\n",
       "    <tr>\n",
       "      <th>151107</th>\n",
       "      <td>345170</td>\n",
       "      <td>2015-01-27 03:03:34</td>\n",
       "      <td>2015-03-29 00:30:47</td>\n",
       "      <td>43</td>\n",
       "      <td>XPSKTWGPWINLR</td>\n",
       "      <td>SEO</td>\n",
       "      <td>Chrome</td>\n",
       "      <td>1</td>\n",
       "      <td>28</td>\n",
       "      <td>3.451155e+09</td>\n",
       "      <td>...</td>\n",
       "      <td>34</td>\n",
       "      <td>60 days 21:27:13</td>\n",
       "      <td>0</td>\n",
       "      <td>0</td>\n",
       "      <td>1</td>\n",
       "      <td>1</td>\n",
       "      <td>0</td>\n",
       "      <td>0</td>\n",
       "      <td>0</td>\n",
       "      <td>0</td>\n",
       "    </tr>\n",
       "    <tr>\n",
       "      <th>151108</th>\n",
       "      <td>274471</td>\n",
       "      <td>2015-05-15 17:43:29</td>\n",
       "      <td>2015-05-26 12:24:39</td>\n",
       "      <td>35</td>\n",
       "      <td>LYSFABUCPCGBA</td>\n",
       "      <td>SEO</td>\n",
       "      <td>Safari</td>\n",
       "      <td>1</td>\n",
       "      <td>32</td>\n",
       "      <td>2.439047e+09</td>\n",
       "      <td>...</td>\n",
       "      <td>29</td>\n",
       "      <td>10 days 18:41:10</td>\n",
       "      <td>0</td>\n",
       "      <td>0</td>\n",
       "      <td>1</td>\n",
       "      <td>0</td>\n",
       "      <td>0</td>\n",
       "      <td>0</td>\n",
       "      <td>0</td>\n",
       "      <td>1</td>\n",
       "    </tr>\n",
       "    <tr>\n",
       "      <th>151109</th>\n",
       "      <td>368416</td>\n",
       "      <td>2015-03-03 23:07:31</td>\n",
       "      <td>2015-05-20 07:07:47</td>\n",
       "      <td>40</td>\n",
       "      <td>MEQHCSJUBRBFE</td>\n",
       "      <td>SEO</td>\n",
       "      <td>IE</td>\n",
       "      <td>0</td>\n",
       "      <td>26</td>\n",
       "      <td>2.748471e+09</td>\n",
       "      <td>...</td>\n",
       "      <td>31</td>\n",
       "      <td>77 days 08:00:16</td>\n",
       "      <td>0</td>\n",
       "      <td>0</td>\n",
       "      <td>1</td>\n",
       "      <td>0</td>\n",
       "      <td>0</td>\n",
       "      <td>1</td>\n",
       "      <td>0</td>\n",
       "      <td>0</td>\n",
       "    </tr>\n",
       "    <tr>\n",
       "      <th>151110</th>\n",
       "      <td>207709</td>\n",
       "      <td>2015-07-09 20:06:07</td>\n",
       "      <td>2015-09-07 09:34:46</td>\n",
       "      <td>46</td>\n",
       "      <td>CMCXFGRHYSTVJ</td>\n",
       "      <td>SEO</td>\n",
       "      <td>Chrome</td>\n",
       "      <td>1</td>\n",
       "      <td>37</td>\n",
       "      <td>3.601175e+09</td>\n",
       "      <td>...</td>\n",
       "      <td>7</td>\n",
       "      <td>59 days 13:28:39</td>\n",
       "      <td>0</td>\n",
       "      <td>0</td>\n",
       "      <td>1</td>\n",
       "      <td>1</td>\n",
       "      <td>0</td>\n",
       "      <td>0</td>\n",
       "      <td>0</td>\n",
       "      <td>0</td>\n",
       "    </tr>\n",
       "    <tr>\n",
       "      <th>151111</th>\n",
       "      <td>138208</td>\n",
       "      <td>2015-06-10 07:02:20</td>\n",
       "      <td>2015-07-21 02:03:53</td>\n",
       "      <td>20</td>\n",
       "      <td>ZINIADFCLHYPG</td>\n",
       "      <td>Direct</td>\n",
       "      <td>IE</td>\n",
       "      <td>1</td>\n",
       "      <td>38</td>\n",
       "      <td>4.103825e+09</td>\n",
       "      <td>...</td>\n",
       "      <td>20</td>\n",
       "      <td>40 days 19:01:33</td>\n",
       "      <td>0</td>\n",
       "      <td>1</td>\n",
       "      <td>0</td>\n",
       "      <td>0</td>\n",
       "      <td>0</td>\n",
       "      <td>1</td>\n",
       "      <td>0</td>\n",
       "      <td>0</td>\n",
       "    </tr>\n",
       "  </tbody>\n",
       "</table>\n",
       "<p>151112 rows × 30 columns</p>\n",
       "</div>"
      ],
      "text/plain": [
       "        user_id         signup_time       purchase_time  purchase_value  \\\n",
       "0         22058 2015-02-24 22:55:49 2015-04-18 02:47:11              34   \n",
       "1        333320 2015-06-07 20:39:50 2015-06-08 01:38:54              16   \n",
       "2          1359 2015-01-01 18:52:44 2015-01-01 18:52:45              15   \n",
       "3        150084 2015-04-28 21:13:25 2015-05-04 13:54:50              44   \n",
       "4        221365 2015-07-21 07:09:52 2015-09-09 18:40:53              39   \n",
       "...         ...                 ...                 ...             ...   \n",
       "151107   345170 2015-01-27 03:03:34 2015-03-29 00:30:47              43   \n",
       "151108   274471 2015-05-15 17:43:29 2015-05-26 12:24:39              35   \n",
       "151109   368416 2015-03-03 23:07:31 2015-05-20 07:07:47              40   \n",
       "151110   207709 2015-07-09 20:06:07 2015-09-07 09:34:46              46   \n",
       "151111   138208 2015-06-10 07:02:20 2015-07-21 02:03:53              20   \n",
       "\n",
       "            device_id  source browser  sex  age    ip_address  ...  \\\n",
       "0       QVPSPJUOCKZAR     SEO  Chrome    1   39  7.327584e+08  ...   \n",
       "1       EOGFQPIZPYXFZ     Ads  Chrome    0   53  3.503114e+08  ...   \n",
       "2       YSSKYOSJHPPLJ     SEO   Opera    1   53  2.621474e+09  ...   \n",
       "3       ATGTXKYKUDUQN     SEO  Safari    1   41  3.840542e+09  ...   \n",
       "4       NAUITBZFJKHWW     Ads  Safari    1   45  4.155831e+08  ...   \n",
       "...               ...     ...     ...  ...  ...           ...  ...   \n",
       "151107  XPSKTWGPWINLR     SEO  Chrome    1   28  3.451155e+09  ...   \n",
       "151108  LYSFABUCPCGBA     SEO  Safari    1   32  2.439047e+09  ...   \n",
       "151109  MEQHCSJUBRBFE     SEO      IE    0   26  2.748471e+09  ...   \n",
       "151110  CMCXFGRHYSTVJ     SEO  Chrome    1   37  3.601175e+09  ...   \n",
       "151111  ZINIADFCLHYPG  Direct      IE    1   38  4.103825e+09  ...   \n",
       "\n",
       "        signup_second        diff_time  source_Ads  source_Direct  source_SEO  \\\n",
       "0                  49 52 days 03:51:22           0              0           1   \n",
       "1                  50  0 days 04:59:04           1              0           0   \n",
       "2                  44  0 days 00:00:01           0              0           1   \n",
       "3                  25  5 days 16:41:25           0              0           1   \n",
       "4                  52 50 days 11:31:01           1              0           0   \n",
       "...               ...              ...         ...            ...         ...   \n",
       "151107             34 60 days 21:27:13           0              0           1   \n",
       "151108             29 10 days 18:41:10           0              0           1   \n",
       "151109             31 77 days 08:00:16           0              0           1   \n",
       "151110              7 59 days 13:28:39           0              0           1   \n",
       "151111             20 40 days 19:01:33           0              1           0   \n",
       "\n",
       "        browser_Chrome  browser_FireFox  browser_IE  browser_Opera  \\\n",
       "0                    1                0           0              0   \n",
       "1                    1                0           0              0   \n",
       "2                    0                0           0              1   \n",
       "3                    0                0           0              0   \n",
       "4                    0                0           0              0   \n",
       "...                ...              ...         ...            ...   \n",
       "151107               1                0           0              0   \n",
       "151108               0                0           0              0   \n",
       "151109               0                0           1              0   \n",
       "151110               1                0           0              0   \n",
       "151111               0                0           1              0   \n",
       "\n",
       "        browser_Safari  \n",
       "0                    0  \n",
       "1                    0  \n",
       "2                    0  \n",
       "3                    1  \n",
       "4                    1  \n",
       "...                ...  \n",
       "151107               0  \n",
       "151108               1  \n",
       "151109               0  \n",
       "151110               0  \n",
       "151111               0  \n",
       "\n",
       "[151112 rows x 30 columns]"
      ]
     },
     "execution_count": 19,
     "metadata": {},
     "output_type": "execute_result"
    }
   ],
   "source": [
    "df"
   ]
  },
  {
   "cell_type": "markdown",
   "id": "09112023",
   "metadata": {},
   "source": [
    "## Modélisation des données"
   ]
  },
  {
   "cell_type": "markdown",
   "id": "da695c87",
   "metadata": {},
   "source": [
    "On sépare df en 2:\n",
    "- **data** qui va contenir les features.\n",
    "- **target** qui va stocker les données cibles"
   ]
  },
  {
   "cell_type": "code",
   "execution_count": 20,
   "id": "f1f3e467",
   "metadata": {},
   "outputs": [],
   "source": [
    "df=df.set_index('user_id')\n",
    "data = df.drop(['is_fraud', 'device_id','purchase_time', 'signup_time', 'source', 'browser', 'diff_time'], axis=1)\n",
    "tar = df.sort_values(by='purchase_month')\n",
    "target = tar.is_fraud"
   ]
  },
  {
   "cell_type": "markdown",
   "id": "a58766df",
   "metadata": {},
   "source": [
    "On divise les matrices définies en un ensemble d'entraînement, de test et de validation par ordre chronologique."
   ]
  },
  {
   "cell_type": "code",
   "execution_count": 21,
   "id": "b19d1e29",
   "metadata": {},
   "outputs": [],
   "source": [
    "data = data.sort_values(by='purchase_month')\n",
    "\n",
    "train_features = data[:int(data.shape[0]*0.8)]\n",
    "test_features = data[int(data.shape[0]*0.8):]\n",
    "train_target = target[:int(target.shape[0]*0.8)]\n",
    "test_target = target[int(target.shape[0]*0.8):]"
   ]
  },
  {
   "cell_type": "code",
   "execution_count": 22,
   "id": "43546581",
   "metadata": {},
   "outputs": [],
   "source": [
    "X_train, X_val, y_train, y_val = train_test_split(train_features, train_target, test_size=0.2)"
   ]
  },
  {
   "cell_type": "markdown",
   "id": "d77cc36f",
   "metadata": {},
   "source": [
    "On doit vérifier qu'il n'y a pas de \"user\" qui apparaisse à la fois dans X_train et dans X_val."
   ]
  },
  {
   "cell_type": "code",
   "execution_count": 23,
   "id": "c05c64b6",
   "metadata": {
    "scrolled": true
   },
   "outputs": [
    {
     "data": {
      "text/html": [
       "<div>\n",
       "<style scoped>\n",
       "    .dataframe tbody tr th:only-of-type {\n",
       "        vertical-align: middle;\n",
       "    }\n",
       "\n",
       "    .dataframe tbody tr th {\n",
       "        vertical-align: top;\n",
       "    }\n",
       "\n",
       "    .dataframe thead th {\n",
       "        text-align: right;\n",
       "    }\n",
       "</style>\n",
       "<table border=\"1\" class=\"dataframe\">\n",
       "  <thead>\n",
       "    <tr style=\"text-align: right;\">\n",
       "      <th></th>\n",
       "      <th>purchase_value_x</th>\n",
       "      <th>sex_x</th>\n",
       "      <th>age_x</th>\n",
       "      <th>ip_address_x</th>\n",
       "      <th>purchase_month_x</th>\n",
       "      <th>purchase_day_x</th>\n",
       "      <th>purchase_hour_x</th>\n",
       "      <th>purchase_minute_x</th>\n",
       "      <th>purchase_second_x</th>\n",
       "      <th>signup_month_x</th>\n",
       "      <th>...</th>\n",
       "      <th>signup_minute_y</th>\n",
       "      <th>signup_second_y</th>\n",
       "      <th>source_Ads_y</th>\n",
       "      <th>source_Direct_y</th>\n",
       "      <th>source_SEO_y</th>\n",
       "      <th>browser_Chrome_y</th>\n",
       "      <th>browser_FireFox_y</th>\n",
       "      <th>browser_IE_y</th>\n",
       "      <th>browser_Opera_y</th>\n",
       "      <th>browser_Safari_y</th>\n",
       "    </tr>\n",
       "    <tr>\n",
       "      <th>user_id</th>\n",
       "      <th></th>\n",
       "      <th></th>\n",
       "      <th></th>\n",
       "      <th></th>\n",
       "      <th></th>\n",
       "      <th></th>\n",
       "      <th></th>\n",
       "      <th></th>\n",
       "      <th></th>\n",
       "      <th></th>\n",
       "      <th></th>\n",
       "      <th></th>\n",
       "      <th></th>\n",
       "      <th></th>\n",
       "      <th></th>\n",
       "      <th></th>\n",
       "      <th></th>\n",
       "      <th></th>\n",
       "      <th></th>\n",
       "      <th></th>\n",
       "      <th></th>\n",
       "    </tr>\n",
       "  </thead>\n",
       "  <tbody>\n",
       "  </tbody>\n",
       "</table>\n",
       "<p>0 rows × 44 columns</p>\n",
       "</div>"
      ],
      "text/plain": [
       "Empty DataFrame\n",
       "Columns: [purchase_value_x, sex_x, age_x, ip_address_x, purchase_month_x, purchase_day_x, purchase_hour_x, purchase_minute_x, purchase_second_x, signup_month_x, signup_day_x, signup_hour_x, signup_minute_x, signup_second_x, source_Ads_x, source_Direct_x, source_SEO_x, browser_Chrome_x, browser_FireFox_x, browser_IE_x, browser_Opera_x, browser_Safari_x, purchase_value_y, sex_y, age_y, ip_address_y, purchase_month_y, purchase_day_y, purchase_hour_y, purchase_minute_y, purchase_second_y, signup_month_y, signup_day_y, signup_hour_y, signup_minute_y, signup_second_y, source_Ads_y, source_Direct_y, source_SEO_y, browser_Chrome_y, browser_FireFox_y, browser_IE_y, browser_Opera_y, browser_Safari_y]\n",
       "Index: []\n",
       "\n",
       "[0 rows x 44 columns]"
      ]
     },
     "execution_count": 23,
     "metadata": {},
     "output_type": "execute_result"
    }
   ],
   "source": [
    "tab = X_train.merge(right=X_val, on='user_id', how='inner')\n",
    "tab"
   ]
  },
  {
   "cell_type": "code",
   "execution_count": 68,
   "id": "726d823f",
   "metadata": {},
   "outputs": [
    {
     "data": {
      "image/png": "[encoded data removed]",
      "text/plain": [
       "<IPython.core.display.Image object>"
      ]
     },
     "execution_count": 68,
     "metadata": {},
     "output_type": "execute_result"
    }
   ],
   "source": [
    "# création des métriques.\n",
    "sm = SMOTE()\n",
    "ros = RandomOverSampler(random_state=42)\n",
    "rus = RandomUnderSampler(random_state=42, replacement=True)\n",
    "nm = NearMiss()\n",
    "tl = RandomOverSampler(sampling_strategy='not minority')\n",
    "\n",
    "#Rappel d'utilisation (undersampling, oversampling)\n",
    "Image(filename='Over_Under.png') "
   ]
  },
  {
   "cell_type": "markdown",
   "id": "7590a4d9",
   "metadata": {},
   "source": [
    "Nous n'avons pas de doublon lors du découpage ce qui est une bonne chose car cela aurait faussé nos résultats."
   ]
  },
  {
   "cell_type": "markdown",
   "id": "5f0ecb1b",
   "metadata": {},
   "source": [
    "On effectue un oversampling pour rééquilibrer les nombre de valeurs pour la variable cible."
   ]
  },
  {
   "cell_type": "code",
   "execution_count": 25,
   "id": "13338bee",
   "metadata": {
    "scrolled": true
   },
   "outputs": [],
   "source": [
    "# Changement de metriques autres de SMOTE, on tente la méthode Tomek Link\n",
    "\n",
    "X_train_res, y_train_res = tl.fit_resample(X_train, y_train)\n",
    "\n",
    "# Autres métriques, pour le suréchantillonnage et le sous échantillonnage\n",
    "\n",
    "#X_train_res, y_train_res = sm.fit_resample(X_train, y_train) #SMOTE\n",
    "#X_train_res, y_train_res = tl.fit_resample(X_train, y_train) #UnderSampling avec Tomek links\n",
    "#X_train_res, y_train_res = rus.fit_resample(X_train, y_train) #RandomUnderSampler\n",
    "#X_train_res, y_train_res = ros.fit_resample(X_train, y_train) #RandomOverSampler\n",
    "#X_train_res, y_train_res = nm.fit_resample(X_train, y_train) #NearMiss"
   ]
  },
  {
   "cell_type": "markdown",
   "id": "8251ca1e",
   "metadata": {},
   "source": [
    "Nous allons essayer plusieurs méthodes de Machine Learning et voir lequel donne la meilleure précision."
   ]
  },
  {
   "cell_type": "markdown",
   "id": "9defd2b7",
   "metadata": {},
   "source": [
    "## Les modèles de Machine Learning."
   ]
  },
  {
   "cell_type": "markdown",
   "id": "f9faec04",
   "metadata": {},
   "source": [
    "### RandomForestClassifier"
   ]
  },
  {
   "cell_type": "code",
   "execution_count": 26,
   "id": "42bdce2f",
   "metadata": {},
   "outputs": [
    {
     "data": {
      "text/plain": [
       "RandomForestClassifier()"
      ]
     },
     "execution_count": 26,
     "metadata": {},
     "output_type": "execute_result"
    }
   ],
   "source": [
    "rfc = RandomForestClassifier()\n",
    "rfc.fit(X_train_res, y_train_res)"
   ]
  },
  {
   "cell_type": "code",
   "execution_count": 27,
   "id": "6604f23e",
   "metadata": {},
   "outputs": [
    {
     "data": {
      "text/html": [
       "<div>\n",
       "<style scoped>\n",
       "    .dataframe tbody tr th:only-of-type {\n",
       "        vertical-align: middle;\n",
       "    }\n",
       "\n",
       "    .dataframe tbody tr th {\n",
       "        vertical-align: top;\n",
       "    }\n",
       "\n",
       "    .dataframe thead th {\n",
       "        text-align: right;\n",
       "    }\n",
       "</style>\n",
       "<table border=\"1\" class=\"dataframe\">\n",
       "  <thead>\n",
       "    <tr style=\"text-align: right;\">\n",
       "      <th>predit</th>\n",
       "      <th>0</th>\n",
       "      <th>1</th>\n",
       "    </tr>\n",
       "    <tr>\n",
       "      <th>réelle</th>\n",
       "      <th></th>\n",
       "      <th></th>\n",
       "    </tr>\n",
       "  </thead>\n",
       "  <tbody>\n",
       "    <tr>\n",
       "      <th>0</th>\n",
       "      <td>21609</td>\n",
       "      <td>22</td>\n",
       "    </tr>\n",
       "    <tr>\n",
       "      <th>1</th>\n",
       "      <td>1055</td>\n",
       "      <td>1492</td>\n",
       "    </tr>\n",
       "  </tbody>\n",
       "</table>\n",
       "</div>"
      ],
      "text/plain": [
       "predit      0     1\n",
       "réelle             \n",
       "0       21609    22\n",
       "1        1055  1492"
      ]
     },
     "execution_count": 27,
     "metadata": {},
     "output_type": "execute_result"
    }
   ],
   "source": [
    "y_pred_rfc = rfc.predict(X_val)\n",
    "\n",
    "pd.crosstab(y_val, y_pred_rfc, rownames=['réelle'], colnames=['predit'])"
   ]
  },
  {
   "cell_type": "code",
   "execution_count": 28,
   "id": "76c9ea39",
   "metadata": {},
   "outputs": [
    {
     "name": "stdout",
     "output_type": "stream",
     "text": [
      "Validation Results\n",
      "0.9554553726528249\n",
      "0.58578720062819\n",
      "\n",
      "Test Results\n",
      "0.9541739734639182\n",
      "0.0\n"
     ]
    }
   ],
   "source": [
    "print('Validation Results')\n",
    "print(rfc.score(X_val, y_val))\n",
    "print(recall_score(y_val, y_pred_rfc))\n",
    "print('\\nTest Results')\n",
    "print(rfc.score(test_features, test_target))\n",
    "print(recall_score(test_target, rfc.predict(test_features)))\n"
   ]
  },
  {
   "cell_type": "code",
   "execution_count": 29,
   "id": "3942a93e",
   "metadata": {},
   "outputs": [],
   "source": [
    "parametres_rfc = { 'max_features': ['sqrt', 'log2', None], 'min_samples_split': range(2,7), 'n_jobs': [4]}"
   ]
  },
  {
   "cell_type": "code",
   "execution_count": 30,
   "id": "ee00b0e8",
   "metadata": {},
   "outputs": [
    {
     "data": {
      "text/plain": [
       "{'n_jobs': 4, 'min_samples_split': 4, 'max_features': None}"
      ]
     },
     "execution_count": 30,
     "metadata": {},
     "output_type": "execute_result"
    }
   ],
   "source": [
    "random_rfc = RandomizedSearchCV(rfc, parametres_rfc)\n",
    "random_rfc.fit(X_train_res, y_train_res)\n",
    "random_rfc.best_params_"
   ]
  },
  {
   "cell_type": "code",
   "execution_count": 31,
   "id": "fb3b55ee",
   "metadata": {},
   "outputs": [
    {
     "data": {
      "text/html": [
       "<div>\n",
       "<style scoped>\n",
       "    .dataframe tbody tr th:only-of-type {\n",
       "        vertical-align: middle;\n",
       "    }\n",
       "\n",
       "    .dataframe tbody tr th {\n",
       "        vertical-align: top;\n",
       "    }\n",
       "\n",
       "    .dataframe thead th {\n",
       "        text-align: right;\n",
       "    }\n",
       "</style>\n",
       "<table border=\"1\" class=\"dataframe\">\n",
       "  <thead>\n",
       "    <tr style=\"text-align: right;\">\n",
       "      <th>predit</th>\n",
       "      <th>0</th>\n",
       "      <th>1</th>\n",
       "    </tr>\n",
       "    <tr>\n",
       "      <th>réelle</th>\n",
       "      <th></th>\n",
       "      <th></th>\n",
       "    </tr>\n",
       "  </thead>\n",
       "  <tbody>\n",
       "    <tr>\n",
       "      <th>0</th>\n",
       "      <td>21617</td>\n",
       "      <td>14</td>\n",
       "    </tr>\n",
       "    <tr>\n",
       "      <th>1</th>\n",
       "      <td>1056</td>\n",
       "      <td>1491</td>\n",
       "    </tr>\n",
       "  </tbody>\n",
       "</table>\n",
       "</div>"
      ],
      "text/plain": [
       "predit      0     1\n",
       "réelle             \n",
       "0       21617    14\n",
       "1        1056  1491"
      ]
     },
     "execution_count": 31,
     "metadata": {},
     "output_type": "execute_result"
    }
   ],
   "source": [
    "y_pred_random_rfc = random_rfc.predict(X_val)\n",
    "pd.crosstab(y_val, y_pred_random_rfc, rownames=['réelle'], colnames=['predit'])"
   ]
  },
  {
   "cell_type": "code",
   "execution_count": 32,
   "id": "6f4d1cae",
   "metadata": {},
   "outputs": [
    {
     "name": "stdout",
     "output_type": "stream",
     "text": [
      "Validation Results\n",
      "0.9557448920506245\n",
      "0.585394581861013\n",
      "\n",
      "Test Results\n",
      "0.9541739734639182\n",
      "0.0\n"
     ]
    }
   ],
   "source": [
    "print('Validation Results')\n",
    "print(random_rfc.score(X_val, y_val))\n",
    "print(recall_score(y_val, y_pred_random_rfc))\n",
    "print('\\nTest Results')\n",
    "print(random_rfc.score(test_features, test_target))\n",
    "print(recall_score(test_target, random_rfc.predict(test_features)))"
   ]
  },
  {
   "cell_type": "markdown",
   "id": "8181d36c",
   "metadata": {},
   "source": [
    "### DecisionTree"
   ]
  },
  {
   "cell_type": "code",
   "execution_count": 33,
   "id": "a6da61c9",
   "metadata": {},
   "outputs": [
    {
     "data": {
      "text/plain": [
       "DecisionTreeClassifier()"
      ]
     },
     "execution_count": 33,
     "metadata": {},
     "output_type": "execute_result"
    }
   ],
   "source": [
    "dt = DecisionTreeClassifier()\n",
    "dt.fit(X_train_res, y_train_res)"
   ]
  },
  {
   "cell_type": "code",
   "execution_count": 34,
   "id": "676d2fab",
   "metadata": {},
   "outputs": [],
   "source": [
    "y_pred_dt = dt.predict(X_val)"
   ]
  },
  {
   "cell_type": "code",
   "execution_count": 35,
   "id": "73cdef9c",
   "metadata": {},
   "outputs": [
    {
     "data": {
      "text/html": [
       "<div>\n",
       "<style scoped>\n",
       "    .dataframe tbody tr th:only-of-type {\n",
       "        vertical-align: middle;\n",
       "    }\n",
       "\n",
       "    .dataframe tbody tr th {\n",
       "        vertical-align: top;\n",
       "    }\n",
       "\n",
       "    .dataframe thead th {\n",
       "        text-align: right;\n",
       "    }\n",
       "</style>\n",
       "<table border=\"1\" class=\"dataframe\">\n",
       "  <thead>\n",
       "    <tr style=\"text-align: right;\">\n",
       "      <th>predit</th>\n",
       "      <th>0</th>\n",
       "      <th>1</th>\n",
       "    </tr>\n",
       "    <tr>\n",
       "      <th>réelle</th>\n",
       "      <th></th>\n",
       "      <th></th>\n",
       "    </tr>\n",
       "  </thead>\n",
       "  <tbody>\n",
       "    <tr>\n",
       "      <th>0</th>\n",
       "      <td>20276</td>\n",
       "      <td>1355</td>\n",
       "    </tr>\n",
       "    <tr>\n",
       "      <th>1</th>\n",
       "      <td>1003</td>\n",
       "      <td>1544</td>\n",
       "    </tr>\n",
       "  </tbody>\n",
       "</table>\n",
       "</div>"
      ],
      "text/plain": [
       "predit      0     1\n",
       "réelle             \n",
       "0       20276  1355\n",
       "1        1003  1544"
      ]
     },
     "execution_count": 35,
     "metadata": {},
     "output_type": "execute_result"
    }
   ],
   "source": [
    "pd.crosstab(y_val, y_pred_dt, rownames=['réelle'], colnames=['predit'])"
   ]
  },
  {
   "cell_type": "code",
   "execution_count": 36,
   "id": "af0dbdb5",
   "metadata": {},
   "outputs": [
    {
     "name": "stdout",
     "output_type": "stream",
     "text": [
      "Validation Results\n",
      "0.9024733228554884\n",
      "0.6062033765213978\n",
      "\n",
      "Test Results\n",
      "0.8827713992654601\n",
      "0.06787003610108304\n"
     ]
    }
   ],
   "source": [
    "print('Validation Results')\n",
    "print(dt.score(X_val, y_val))\n",
    "print(recall_score(y_val, y_pred_dt))\n",
    "print('\\nTest Results')\n",
    "print(dt.score(test_features, test_target))\n",
    "print(recall_score(test_target, dt.predict(test_features)))"
   ]
  },
  {
   "cell_type": "code",
   "execution_count": 37,
   "id": "db49a0a6",
   "metadata": {},
   "outputs": [],
   "source": [
    "parametres_dt = { 'criterion': ['gini', 'entropy'], 'max_depth': [2,4,6, 10, 50, 100], 'max_features': ['auto', 'sqrt', 'log2', None]}"
   ]
  },
  {
   "cell_type": "code",
   "execution_count": 38,
   "id": "4a9b0fcb",
   "metadata": {},
   "outputs": [
    {
     "data": {
      "text/plain": [
       "{'max_features': None, 'max_depth': 10, 'criterion': 'entropy'}"
      ]
     },
     "execution_count": 38,
     "metadata": {},
     "output_type": "execute_result"
    }
   ],
   "source": [
    "random_dt = RandomizedSearchCV(dt, parametres_dt)\n",
    "random_dt.fit(X_train_res, y_train_res)\n",
    "random_dt.best_params_"
   ]
  },
  {
   "cell_type": "code",
   "execution_count": 39,
   "id": "3e0b45a3",
   "metadata": {},
   "outputs": [
    {
     "data": {
      "text/html": [
       "<div>\n",
       "<style scoped>\n",
       "    .dataframe tbody tr th:only-of-type {\n",
       "        vertical-align: middle;\n",
       "    }\n",
       "\n",
       "    .dataframe tbody tr th {\n",
       "        vertical-align: top;\n",
       "    }\n",
       "\n",
       "    .dataframe thead th {\n",
       "        text-align: right;\n",
       "    }\n",
       "</style>\n",
       "<table border=\"1\" class=\"dataframe\">\n",
       "  <thead>\n",
       "    <tr style=\"text-align: right;\">\n",
       "      <th>predit</th>\n",
       "      <th>0</th>\n",
       "      <th>1</th>\n",
       "    </tr>\n",
       "    <tr>\n",
       "      <th>réelle</th>\n",
       "      <th></th>\n",
       "      <th></th>\n",
       "    </tr>\n",
       "  </thead>\n",
       "  <tbody>\n",
       "    <tr>\n",
       "      <th>0</th>\n",
       "      <td>21585</td>\n",
       "      <td>46</td>\n",
       "    </tr>\n",
       "    <tr>\n",
       "      <th>1</th>\n",
       "      <td>1054</td>\n",
       "      <td>1493</td>\n",
       "    </tr>\n",
       "  </tbody>\n",
       "</table>\n",
       "</div>"
      ],
      "text/plain": [
       "predit      0     1\n",
       "réelle             \n",
       "0       21585    46\n",
       "1        1054  1493"
      ]
     },
     "execution_count": 39,
     "metadata": {},
     "output_type": "execute_result"
    }
   ],
   "source": [
    "y_pred_random_dt = random_dt.predict(X_val)\n",
    "pd.crosstab(y_val, y_pred_random_dt, rownames=['réelle'], colnames=['predit'])"
   ]
  },
  {
   "cell_type": "code",
   "execution_count": 40,
   "id": "5cfbd269",
   "metadata": {},
   "outputs": [
    {
     "name": "stdout",
     "output_type": "stream",
     "text": [
      "Validation Results\n",
      "0.9545040946314831\n",
      "0.5861798193953671\n",
      "\n",
      "Test Results\n",
      "0.9526519538100122\n",
      "0.0\n"
     ]
    }
   ],
   "source": [
    "print('Validation Results')\n",
    "print(random_dt.score(X_val, y_val))\n",
    "print(recall_score(y_val, y_pred_random_dt))\n",
    "print('\\nTest Results')\n",
    "print(random_dt.score(test_features, test_target))\n",
    "print(recall_score(test_target, random_dt.predict(test_features)))"
   ]
  },
  {
   "cell_type": "markdown",
   "id": "b55138b1",
   "metadata": {},
   "source": [
    "### Validation croisée"
   ]
  },
  {
   "cell_type": "code",
   "execution_count": 41,
   "id": "d8f23d38",
   "metadata": {},
   "outputs": [
    {
     "data": {
      "text/plain": [
       "array([0.3357046 , 0.38957086, 0.94987095, 0.38326385, 0.90635961])"
      ]
     },
     "execution_count": 41,
     "metadata": {},
     "output_type": "execute_result"
    }
   ],
   "source": [
    "scores = cross_val_score(rfc , data, target, cv=5, scoring='accuracy')\n",
    "scores"
   ]
  },
  {
   "cell_type": "code",
   "execution_count": 42,
   "id": "fa9b0657",
   "metadata": {},
   "outputs": [],
   "source": [
    "folds_1 = StratifiedKFold(n_splits = 5, shuffle = False)\n",
    "\n",
    "folds_2 = StratifiedKFold(n_splits = 5, shuffle = True, random_state=42)\n",
    "\n",
    "performances_non_shuffled = cross_val_score(rfc, data, target, scoring='accuracy', cv=folds_1)\n",
    "\n",
    "performances_shuffled = cross_val_score(rfc, data, target, scoring='accuracy', cv=folds_2)"
   ]
  },
  {
   "cell_type": "code",
   "execution_count": 43,
   "id": "40ce62f6",
   "metadata": {},
   "outputs": [
    {
     "name": "stdout",
     "output_type": "stream",
     "text": [
      "0.5966135624338733\n",
      "0.9559531951400027\n"
     ]
    }
   ],
   "source": [
    "print(np.mean(performances_non_shuffled))\n",
    "print(np.mean(performances_shuffled))"
   ]
  },
  {
   "cell_type": "code",
   "execution_count": 44,
   "id": "904c0f13",
   "metadata": {},
   "outputs": [
    {
     "data": {
      "image/png": "[encoded data removed]",
      "text/plain": [
       "<Figure size 720x504 with 1 Axes>"
      ]
     },
     "metadata": {
      "needs_background": "light"
     },
     "output_type": "display_data"
    }
   ],
   "source": [
    "plt.figure(figsize=(10,7))\n",
    "plt.xlabel(\"Splits\")\n",
    "plt.ylabel(\"Accuracy\", rotation=0)\n",
    "plt.plot(performances_non_shuffled,label=\"Non shuffled\",color=\"#66d8bc\")\n",
    "plt.plot(performances_shuffled,label=\"Shuffled\",color=\"#8f5ef4\")\n",
    "plt.xticks(np.arange(0, 5, step=1))\n",
    "plt.legend(loc=0)\n",
    "plt.title(\"\\nPerformances obtenues par Stratified Cross Validation\\n\",fontsize=14);"
   ]
  },
  {
   "cell_type": "markdown",
   "id": "87d11333",
   "metadata": {},
   "source": [
    "On obtient une meilleure précision si on mélange les données (95,6% contre 59,5%)."
   ]
  },
  {
   "cell_type": "markdown",
   "id": "2425c520",
   "metadata": {},
   "source": [
    "### VotingClassifier"
   ]
  },
  {
   "cell_type": "code",
   "execution_count": 45,
   "id": "bc332482",
   "metadata": {},
   "outputs": [],
   "source": [
    "vclf = VotingClassifier(estimators=[('rfc', rfc), ('dt', dt)], n_jobs=4, voting='hard')"
   ]
  },
  {
   "cell_type": "code",
   "execution_count": 46,
   "id": "e5dd4599",
   "metadata": {},
   "outputs": [],
   "source": [
    "cv3 = KFold(n_splits= 3, random_state=111, shuffle=True)"
   ]
  },
  {
   "cell_type": "code",
   "execution_count": 47,
   "id": "574ec9a8",
   "metadata": {},
   "outputs": [
    {
     "name": "stdout",
     "output_type": "stream",
     "text": [
      "La précision est de 96.0%\n"
     ]
    }
   ],
   "source": [
    "scoring = ['accuracy']\n",
    "scores = cross_validate(vclf, X_train_res, y_train_res, cv=cv3, scoring=scoring)\n",
    "print(f\"La précision est de {round(scores['test_accuracy'].mean(),2)*100}%\")"
   ]
  },
  {
   "cell_type": "code",
   "execution_count": 48,
   "id": "2fad9f9a",
   "metadata": {},
   "outputs": [
    {
     "data": {
      "text/plain": [
       "VotingClassifier(estimators=[('rfc', RandomForestClassifier()),\n",
       "                             ('dt', DecisionTreeClassifier())],\n",
       "                 n_jobs=4)"
      ]
     },
     "execution_count": 48,
     "metadata": {},
     "output_type": "execute_result"
    }
   ],
   "source": [
    "vclf.fit(X_train_res, y_train_res)"
   ]
  },
  {
   "cell_type": "code",
   "execution_count": 49,
   "id": "536fec1c",
   "metadata": {},
   "outputs": [
    {
     "data": {
      "text/html": [
       "<div>\n",
       "<style scoped>\n",
       "    .dataframe tbody tr th:only-of-type {\n",
       "        vertical-align: middle;\n",
       "    }\n",
       "\n",
       "    .dataframe tbody tr th {\n",
       "        vertical-align: top;\n",
       "    }\n",
       "\n",
       "    .dataframe thead th {\n",
       "        text-align: right;\n",
       "    }\n",
       "</style>\n",
       "<table border=\"1\" class=\"dataframe\">\n",
       "  <thead>\n",
       "    <tr style=\"text-align: right;\">\n",
       "      <th>predit</th>\n",
       "      <th>0</th>\n",
       "      <th>1</th>\n",
       "    </tr>\n",
       "    <tr>\n",
       "      <th>réelle</th>\n",
       "      <th></th>\n",
       "      <th></th>\n",
       "    </tr>\n",
       "  </thead>\n",
       "  <tbody>\n",
       "    <tr>\n",
       "      <th>0</th>\n",
       "      <td>21619</td>\n",
       "      <td>12</td>\n",
       "    </tr>\n",
       "    <tr>\n",
       "      <th>1</th>\n",
       "      <td>1055</td>\n",
       "      <td>1492</td>\n",
       "    </tr>\n",
       "  </tbody>\n",
       "</table>\n",
       "</div>"
      ],
      "text/plain": [
       "predit      0     1\n",
       "réelle             \n",
       "0       21619    12\n",
       "1        1055  1492"
      ]
     },
     "execution_count": 49,
     "metadata": {},
     "output_type": "execute_result"
    }
   ],
   "source": [
    "y_pred_vclf = vclf.predict(X_val)\n",
    "pd.crosstab(y_val, y_pred_vclf, rownames=['réelle'], colnames=['predit'])"
   ]
  },
  {
   "cell_type": "code",
   "execution_count": 50,
   "id": "44d0148d",
   "metadata": {},
   "outputs": [
    {
     "name": "stdout",
     "output_type": "stream",
     "text": [
      "Validation Results\n",
      "0.9558689717925387\n",
      "0.58578720062819\n",
      "\n",
      "Test Results\n",
      "0.9541739734639182\n",
      "0.0\n"
     ]
    }
   ],
   "source": [
    "print('Validation Results')\n",
    "print(vclf.score(X_val, y_val))\n",
    "print(recall_score(y_val, y_pred_vclf))\n",
    "print('\\nTest Results')\n",
    "print(vclf.score(test_features, test_target))\n",
    "print(recall_score(test_target, vclf.predict(test_features)))"
   ]
  },
  {
   "cell_type": "markdown",
   "id": "a7aa056b",
   "metadata": {},
   "source": [
    "### Boosting"
   ]
  },
  {
   "cell_type": "code",
   "execution_count": 51,
   "id": "f2126db1",
   "metadata": {},
   "outputs": [],
   "source": [
    "from sklearn.ensemble import AdaBoostClassifier"
   ]
  },
  {
   "cell_type": "code",
   "execution_count": 52,
   "id": "f719c604",
   "metadata": {},
   "outputs": [
    {
     "name": "stdout",
     "output_type": "stream",
     "text": [
      "Le taux de bonnes prédictions est de 90.0%\n"
     ]
    }
   ],
   "source": [
    "ac = AdaBoostClassifier(base_estimator = dt, n_estimators= 100)\n",
    "ac.fit(X_train_res, y_train_res)\n",
    "print(f\"Le taux de bonnes prédictions est de {round(ac.score(X_val, y_val),2)*100}%\")"
   ]
  },
  {
   "cell_type": "code",
   "execution_count": 53,
   "id": "9b39f806",
   "metadata": {},
   "outputs": [
    {
     "data": {
      "text/html": [
       "<div>\n",
       "<style scoped>\n",
       "    .dataframe tbody tr th:only-of-type {\n",
       "        vertical-align: middle;\n",
       "    }\n",
       "\n",
       "    .dataframe tbody tr th {\n",
       "        vertical-align: top;\n",
       "    }\n",
       "\n",
       "    .dataframe thead th {\n",
       "        text-align: right;\n",
       "    }\n",
       "</style>\n",
       "<table border=\"1\" class=\"dataframe\">\n",
       "  <thead>\n",
       "    <tr style=\"text-align: right;\">\n",
       "      <th>col_0</th>\n",
       "      <th>0</th>\n",
       "      <th>1</th>\n",
       "    </tr>\n",
       "    <tr>\n",
       "      <th>is_fraud</th>\n",
       "      <th></th>\n",
       "      <th></th>\n",
       "    </tr>\n",
       "  </thead>\n",
       "  <tbody>\n",
       "    <tr>\n",
       "      <th>0</th>\n",
       "      <td>20251</td>\n",
       "      <td>1380</td>\n",
       "    </tr>\n",
       "    <tr>\n",
       "      <th>1</th>\n",
       "      <td>997</td>\n",
       "      <td>1550</td>\n",
       "    </tr>\n",
       "  </tbody>\n",
       "</table>\n",
       "</div>"
      ],
      "text/plain": [
       "col_0         0     1\n",
       "is_fraud             \n",
       "0         20251  1380\n",
       "1           997  1550"
      ]
     },
     "execution_count": 53,
     "metadata": {},
     "output_type": "execute_result"
    }
   ],
   "source": [
    "y_pred_ada = ac.predict(X_val)\n",
    "pd.crosstab(y_val, y_pred_ada)"
   ]
  },
  {
   "cell_type": "code",
   "execution_count": 54,
   "id": "81b50a1a",
   "metadata": {},
   "outputs": [
    {
     "name": "stdout",
     "output_type": "stream",
     "text": [
      "Validation Results\n",
      "0.9016874844900322\n",
      "0.6085590891244601\n",
      "\n",
      "Test Results\n",
      "0.8834993217086325\n",
      "0.06570397111913358\n"
     ]
    }
   ],
   "source": [
    "print('Validation Results')\n",
    "print(ac.score(X_val, y_val))\n",
    "print(recall_score(y_val, y_pred_ada))\n",
    "print('\\nTest Results')\n",
    "print(ac.score(test_features, test_target))\n",
    "print(recall_score(test_target, ac.predict(test_features)))"
   ]
  },
  {
   "cell_type": "markdown",
   "id": "b3b8fae8",
   "metadata": {},
   "source": [
    "### Bagging"
   ]
  },
  {
   "cell_type": "code",
   "execution_count": 55,
   "id": "489558a2",
   "metadata": {},
   "outputs": [
    {
     "data": {
      "text/plain": [
       "0.9569025240148483"
      ]
     },
     "execution_count": 55,
     "metadata": {},
     "output_type": "execute_result"
    }
   ],
   "source": [
    "from sklearn.ensemble import BaggingClassifier\n",
    "bc = BaggingClassifier(n_estimators=500, oob_score=True, n_jobs=-1)\n",
    "bc.fit(X_train_res, y_train_res)\n",
    "bc.oob_score_"
   ]
  },
  {
   "cell_type": "markdown",
   "id": "385065f8",
   "metadata": {},
   "source": [
    "L'erreur **Out of Bag** du modèle est de 96,8%."
   ]
  },
  {
   "cell_type": "code",
   "execution_count": 56,
   "id": "78e2a6cb",
   "metadata": {},
   "outputs": [
    {
     "name": "stdout",
     "output_type": "stream",
     "text": [
      "Le taux de bonnes prédictions est de 96.0%\n"
     ]
    }
   ],
   "source": [
    "print(f\"Le taux de bonnes prédictions est de {round(bc.score(X_val, y_val),2)*100}%\")"
   ]
  },
  {
   "cell_type": "code",
   "execution_count": 57,
   "id": "0a63b36e",
   "metadata": {},
   "outputs": [
    {
     "data": {
      "text/html": [
       "<div>\n",
       "<style scoped>\n",
       "    .dataframe tbody tr th:only-of-type {\n",
       "        vertical-align: middle;\n",
       "    }\n",
       "\n",
       "    .dataframe tbody tr th {\n",
       "        vertical-align: top;\n",
       "    }\n",
       "\n",
       "    .dataframe thead th {\n",
       "        text-align: right;\n",
       "    }\n",
       "</style>\n",
       "<table border=\"1\" class=\"dataframe\">\n",
       "  <thead>\n",
       "    <tr style=\"text-align: right;\">\n",
       "      <th>col_0</th>\n",
       "      <th>0</th>\n",
       "      <th>1</th>\n",
       "    </tr>\n",
       "    <tr>\n",
       "      <th>is_fraud</th>\n",
       "      <th></th>\n",
       "      <th></th>\n",
       "    </tr>\n",
       "  </thead>\n",
       "  <tbody>\n",
       "    <tr>\n",
       "      <th>0</th>\n",
       "      <td>21616</td>\n",
       "      <td>15</td>\n",
       "    </tr>\n",
       "    <tr>\n",
       "      <th>1</th>\n",
       "      <td>1056</td>\n",
       "      <td>1491</td>\n",
       "    </tr>\n",
       "  </tbody>\n",
       "</table>\n",
       "</div>"
      ],
      "text/plain": [
       "col_0         0     1\n",
       "is_fraud             \n",
       "0         21616    15\n",
       "1          1056  1491"
      ]
     },
     "execution_count": 57,
     "metadata": {},
     "output_type": "execute_result"
    }
   ],
   "source": [
    "y_pred_bag = bc.predict(X_val)\n",
    "pd.crosstab(y_val, y_pred_bag)"
   ]
  },
  {
   "cell_type": "code",
   "execution_count": 58,
   "id": "fe236f11",
   "metadata": {},
   "outputs": [
    {
     "name": "stdout",
     "output_type": "stream",
     "text": [
      "Validation Results\n",
      "0.9557035321366532\n",
      "0.585394581861013\n",
      "\n",
      "Test Results\n",
      "0.9541739734639182\n",
      "0.0\n"
     ]
    }
   ],
   "source": [
    "print('Validation Results')\n",
    "print(bc.score(X_val, y_val))\n",
    "print(recall_score(y_val, y_pred_bag))\n",
    "print('\\nTest Results')\n",
    "print(bc.score(test_features, test_target))\n",
    "print(recall_score(test_target, bc.predict(test_features)))"
   ]
  },
  {
   "cell_type": "markdown",
   "id": "552bc7b4",
   "metadata": {},
   "source": [
    "### XGBoost"
   ]
  },
  {
   "cell_type": "code",
   "execution_count": 59,
   "id": "2973cb6f",
   "metadata": {},
   "outputs": [],
   "source": [
    "import xgboost as xgb"
   ]
  },
  {
   "cell_type": "code",
   "execution_count": 60,
   "id": "cf762ec7",
   "metadata": {},
   "outputs": [],
   "source": [
    "train = xgb.DMatrix(data=X_train_res, label=y_train_res)\n",
    "val = xgb.DMatrix(data=X_val, label=y_val)\n",
    "test = xgb.DMatrix(data=test_features, label=test_target)"
   ]
  },
  {
   "cell_type": "code",
   "execution_count": 61,
   "id": "439dbd36",
   "metadata": {},
   "outputs": [
    {
     "name": "stdout",
     "output_type": "stream",
     "text": [
      "[12:17:21] WARNING: C:/Users/Administrator/workspace/xgboost-win64_release_1.4.0/src/learner.cc:1095: Starting in XGBoost 1.3.0, the default evaluation metric used with the objective 'binary:logistic' was changed from 'error' to 'logloss'. Explicitly set eval_metric if you'd like to restore the old behavior.\n",
      "[0]\ttrain-logloss:0.68473\teval-logloss:0.68494\n",
      "[1]\ttrain-logloss:0.67671\teval-logloss:0.67688\n",
      "[2]\ttrain-logloss:0.66868\teval-logloss:0.66896\n",
      "[3]\ttrain-logloss:0.66109\teval-logloss:0.66120\n",
      "[4]\ttrain-logloss:0.65339\teval-logloss:0.65366\n",
      "[5]\ttrain-logloss:0.64576\teval-logloss:0.64621\n",
      "[6]\ttrain-logloss:0.63846\teval-logloss:0.63885\n",
      "[7]\ttrain-logloss:0.63133\teval-logloss:0.63175\n",
      "[8]\ttrain-logloss:0.62427\teval-logloss:0.62472\n",
      "[9]\ttrain-logloss:0.61721\teval-logloss:0.61778\n",
      "[10]\ttrain-logloss:0.61039\teval-logloss:0.61103\n",
      "[11]\ttrain-logloss:0.60381\teval-logloss:0.60438\n",
      "[12]\ttrain-logloss:0.59706\teval-logloss:0.59785\n",
      "[13]\ttrain-logloss:0.59080\teval-logloss:0.59142\n",
      "[14]\ttrain-logloss:0.58446\teval-logloss:0.58511\n",
      "[15]\ttrain-logloss:0.57799\teval-logloss:0.57898\n",
      "[16]\ttrain-logloss:0.57185\teval-logloss:0.57290\n",
      "[17]\ttrain-logloss:0.56609\teval-logloss:0.56688\n",
      "[18]\ttrain-logloss:0.56015\teval-logloss:0.56104\n",
      "[19]\ttrain-logloss:0.55422\teval-logloss:0.55533\n",
      "[20]\ttrain-logloss:0.54862\teval-logloss:0.54968\n",
      "[21]\ttrain-logloss:0.54289\teval-logloss:0.54411\n",
      "[22]\ttrain-logloss:0.53755\teval-logloss:0.53867\n",
      "[23]\ttrain-logloss:0.53211\teval-logloss:0.53331\n",
      "[24]\ttrain-logloss:0.52683\teval-logloss:0.52799\n",
      "[25]\ttrain-logloss:0.52159\teval-logloss:0.52280\n",
      "[26]\ttrain-logloss:0.51638\teval-logloss:0.51770\n",
      "[27]\ttrain-logloss:0.51136\teval-logloss:0.51270\n",
      "[28]\ttrain-logloss:0.50629\teval-logloss:0.50777\n",
      "[29]\ttrain-logloss:0.50132\teval-logloss:0.50290\n",
      "[30]\ttrain-logloss:0.49666\teval-logloss:0.49816\n",
      "[31]\ttrain-logloss:0.49182\teval-logloss:0.49346\n",
      "[32]\ttrain-logloss:0.48721\teval-logloss:0.48890\n",
      "[33]\ttrain-logloss:0.48263\teval-logloss:0.48433\n",
      "[34]\ttrain-logloss:0.47803\teval-logloss:0.47986\n",
      "[35]\ttrain-logloss:0.47356\teval-logloss:0.47551\n",
      "[36]\ttrain-logloss:0.46920\teval-logloss:0.47116\n",
      "[37]\ttrain-logloss:0.46491\teval-logloss:0.46692\n",
      "[38]\ttrain-logloss:0.46068\teval-logloss:0.46279\n",
      "[39]\ttrain-logloss:0.45659\teval-logloss:0.45863\n",
      "[40]\ttrain-logloss:0.45258\teval-logloss:0.45460\n",
      "[41]\ttrain-logloss:0.44855\teval-logloss:0.45063\n",
      "[42]\ttrain-logloss:0.44445\teval-logloss:0.44671\n",
      "[43]\ttrain-logloss:0.44065\teval-logloss:0.44288\n",
      "[44]\ttrain-logloss:0.43675\teval-logloss:0.43911\n",
      "[45]\ttrain-logloss:0.43302\teval-logloss:0.43538\n",
      "[46]\ttrain-logloss:0.42921\teval-logloss:0.43175\n",
      "[47]\ttrain-logloss:0.42563\teval-logloss:0.42812\n",
      "[48]\ttrain-logloss:0.42202\teval-logloss:0.42455\n",
      "[49]\ttrain-logloss:0.41844\teval-logloss:0.42106\n",
      "[50]\ttrain-logloss:0.41486\teval-logloss:0.41764\n",
      "[51]\ttrain-logloss:0.41145\teval-logloss:0.41423\n",
      "[52]\ttrain-logloss:0.40806\teval-logloss:0.41089\n",
      "[53]\ttrain-logloss:0.40471\teval-logloss:0.40759\n",
      "[54]\ttrain-logloss:0.40143\teval-logloss:0.40441\n",
      "[55]\ttrain-logloss:0.39824\teval-logloss:0.40119\n",
      "[56]\ttrain-logloss:0.39501\teval-logloss:0.39809\n",
      "[57]\ttrain-logloss:0.39187\teval-logloss:0.39497\n",
      "[58]\ttrain-logloss:0.38881\teval-logloss:0.39194\n",
      "[59]\ttrain-logloss:0.38576\teval-logloss:0.38890\n",
      "[60]\ttrain-logloss:0.38271\teval-logloss:0.38597\n",
      "[61]\ttrain-logloss:0.37970\teval-logloss:0.38304\n",
      "[62]\ttrain-logloss:0.37683\teval-logloss:0.38018\n",
      "[63]\ttrain-logloss:0.37389\teval-logloss:0.37735\n",
      "[64]\ttrain-logloss:0.37108\teval-logloss:0.37459\n",
      "[65]\ttrain-logloss:0.36834\teval-logloss:0.37183\n",
      "[66]\ttrain-logloss:0.36558\teval-logloss:0.36916\n",
      "[67]\ttrain-logloss:0.36280\teval-logloss:0.36648\n",
      "[68]\ttrain-logloss:0.36016\teval-logloss:0.36389\n",
      "[69]\ttrain-logloss:0.35747\teval-logloss:0.36129\n",
      "[70]\ttrain-logloss:0.35489\teval-logloss:0.35874\n",
      "[71]\ttrain-logloss:0.35238\teval-logloss:0.35624\n",
      "[72]\ttrain-logloss:0.34989\teval-logloss:0.35377\n",
      "[73]\ttrain-logloss:0.34740\teval-logloss:0.35132\n",
      "[74]\ttrain-logloss:0.34491\teval-logloss:0.34892\n",
      "[75]\ttrain-logloss:0.34251\teval-logloss:0.34657\n",
      "[76]\ttrain-logloss:0.34009\teval-logloss:0.34424\n",
      "[77]\ttrain-logloss:0.33776\teval-logloss:0.34195\n",
      "[78]\ttrain-logloss:0.33550\teval-logloss:0.33969\n",
      "[79]\ttrain-logloss:0.33316\teval-logloss:0.33745\n",
      "[80]\ttrain-logloss:0.33097\teval-logloss:0.33526\n",
      "[81]\ttrain-logloss:0.32870\teval-logloss:0.33309\n",
      "[82]\ttrain-logloss:0.32655\teval-logloss:0.33096\n",
      "[83]\ttrain-logloss:0.32435\teval-logloss:0.32886\n",
      "[84]\ttrain-logloss:0.32223\teval-logloss:0.32678\n",
      "[85]\ttrain-logloss:0.32019\teval-logloss:0.32476\n",
      "[86]\ttrain-logloss:0.31812\teval-logloss:0.32274\n",
      "[87]\ttrain-logloss:0.31607\teval-logloss:0.32075\n",
      "[88]\ttrain-logloss:0.31407\teval-logloss:0.31879\n",
      "[89]\ttrain-logloss:0.31212\teval-logloss:0.31687\n",
      "[90]\ttrain-logloss:0.31017\teval-logloss:0.31498\n",
      "[91]\ttrain-logloss:0.30821\teval-logloss:0.31309\n",
      "[92]\ttrain-logloss:0.30631\teval-logloss:0.31125\n",
      "[93]\ttrain-logloss:0.30449\teval-logloss:0.30944\n",
      "[94]\ttrain-logloss:0.30264\teval-logloss:0.30764\n",
      "[95]\ttrain-logloss:0.30079\teval-logloss:0.30589\n",
      "[96]\ttrain-logloss:0.29905\teval-logloss:0.30415\n",
      "[97]\ttrain-logloss:0.29724\teval-logloss:0.30243\n",
      "[98]\ttrain-logloss:0.29552\teval-logloss:0.30073\n",
      "[99]\ttrain-logloss:0.29380\teval-logloss:0.29905\n",
      "[100]\ttrain-logloss:0.29208\teval-logloss:0.29741\n",
      "[101]\ttrain-logloss:0.29041\teval-logloss:0.29579\n",
      "[102]\ttrain-logloss:0.28879\teval-logloss:0.29418\n",
      "[103]\ttrain-logloss:0.28717\teval-logloss:0.29262\n",
      "[104]\ttrain-logloss:0.28559\teval-logloss:0.29106\n",
      "[105]\ttrain-logloss:0.28396\teval-logloss:0.28954\n",
      "[106]\ttrain-logloss:0.28240\teval-logloss:0.28803\n",
      "[107]\ttrain-logloss:0.28085\teval-logloss:0.28653\n",
      "[108]\ttrain-logloss:0.27941\teval-logloss:0.28506\n",
      "[109]\ttrain-logloss:0.27792\teval-logloss:0.28362\n",
      "[110]\ttrain-logloss:0.27645\teval-logloss:0.28218\n",
      "[111]\ttrain-logloss:0.27497\teval-logloss:0.28078\n",
      "[112]\ttrain-logloss:0.27354\teval-logloss:0.27939\n",
      "[113]\ttrain-logloss:0.27216\teval-logloss:0.27804\n",
      "[114]\ttrain-logloss:0.27076\teval-logloss:0.27668\n",
      "[115]\ttrain-logloss:0.26938\teval-logloss:0.27536\n",
      "[116]\ttrain-logloss:0.26807\teval-logloss:0.27404\n",
      "[117]\ttrain-logloss:0.26671\teval-logloss:0.27275\n",
      "[118]\ttrain-logloss:0.26542\teval-logloss:0.27148\n",
      "[119]\ttrain-logloss:0.26410\teval-logloss:0.27022\n",
      "[120]\ttrain-logloss:0.26284\teval-logloss:0.26899\n",
      "[121]\ttrain-logloss:0.26159\teval-logloss:0.26776\n",
      "[122]\ttrain-logloss:0.26034\teval-logloss:0.26656\n",
      "[123]\ttrain-logloss:0.25912\teval-logloss:0.26539\n",
      "[124]\ttrain-logloss:0.25792\teval-logloss:0.26420\n",
      "[125]\ttrain-logloss:0.25670\teval-logloss:0.26305\n",
      "[126]\ttrain-logloss:0.25552\teval-logloss:0.26190\n",
      "[127]\ttrain-logloss:0.25438\teval-logloss:0.26077\n",
      "[128]\ttrain-logloss:0.25325\teval-logloss:0.25967\n",
      "[129]\ttrain-logloss:0.25213\teval-logloss:0.25858\n",
      "[130]\ttrain-logloss:0.25102\teval-logloss:0.25750\n",
      "[131]\ttrain-logloss:0.24993\teval-logloss:0.25644\n",
      "[132]\ttrain-logloss:0.24885\teval-logloss:0.25539\n",
      "[133]\ttrain-logloss:0.24778\teval-logloss:0.25436\n",
      "[134]\ttrain-logloss:0.24673\teval-logloss:0.25333\n",
      "[135]\ttrain-logloss:0.24567\teval-logloss:0.25234\n",
      "[136]\ttrain-logloss:0.24467\teval-logloss:0.25133\n",
      "[137]\ttrain-logloss:0.24368\teval-logloss:0.25036\n",
      "[138]\ttrain-logloss:0.24269\teval-logloss:0.24940\n",
      "[139]\ttrain-logloss:0.24167\teval-logloss:0.24845\n",
      "[140]\ttrain-logloss:0.24071\teval-logloss:0.24751\n",
      "[141]\ttrain-logloss:0.23977\teval-logloss:0.24659\n",
      "[142]\ttrain-logloss:0.23881\teval-logloss:0.24569\n",
      "[143]\ttrain-logloss:0.23787\teval-logloss:0.24478\n",
      "[144]\ttrain-logloss:0.23698\teval-logloss:0.24391\n",
      "[145]\ttrain-logloss:0.23605\teval-logloss:0.24303\n",
      "[146]\ttrain-logloss:0.23518\teval-logloss:0.24218\n",
      "[147]\ttrain-logloss:0.23428\teval-logloss:0.24133\n",
      "[148]\ttrain-logloss:0.23343\teval-logloss:0.24050\n",
      "[149]\ttrain-logloss:0.23256\teval-logloss:0.23968\n",
      "[150]\ttrain-logloss:0.23174\teval-logloss:0.23887\n",
      "[151]\ttrain-logloss:0.23089\teval-logloss:0.23808\n",
      "[152]\ttrain-logloss:0.23008\teval-logloss:0.23728\n",
      "[153]\ttrain-logloss:0.22928\teval-logloss:0.23651\n",
      "[154]\ttrain-logloss:0.22846\teval-logloss:0.23574\n",
      "[155]\ttrain-logloss:0.22769\teval-logloss:0.23498\n",
      "[156]\ttrain-logloss:0.22693\teval-logloss:0.23423\n",
      "[157]\ttrain-logloss:0.22616\teval-logloss:0.23350\n",
      "[158]\ttrain-logloss:0.22539\teval-logloss:0.23277\n",
      "[159]\ttrain-logloss:0.22464\teval-logloss:0.23207\n",
      "[160]\ttrain-logloss:0.22391\teval-logloss:0.23137\n",
      "[161]\ttrain-logloss:0.22320\teval-logloss:0.23067\n",
      "[162]\ttrain-logloss:0.22248\teval-logloss:0.23000\n",
      "[163]\ttrain-logloss:0.22179\teval-logloss:0.22932\n"
     ]
    },
    {
     "name": "stdout",
     "output_type": "stream",
     "text": [
      "[164]\ttrain-logloss:0.22109\teval-logloss:0.22866\n",
      "[165]\ttrain-logloss:0.22039\teval-logloss:0.22801\n",
      "[166]\ttrain-logloss:0.21971\teval-logloss:0.22738\n",
      "[167]\ttrain-logloss:0.21904\teval-logloss:0.22674\n",
      "[168]\ttrain-logloss:0.21839\teval-logloss:0.22612\n",
      "[169]\ttrain-logloss:0.21775\teval-logloss:0.22550\n",
      "[170]\ttrain-logloss:0.21712\teval-logloss:0.22489\n",
      "[171]\ttrain-logloss:0.21649\teval-logloss:0.22429\n",
      "[172]\ttrain-logloss:0.21586\teval-logloss:0.22371\n",
      "[173]\ttrain-logloss:0.21526\teval-logloss:0.22313\n",
      "[174]\ttrain-logloss:0.21463\teval-logloss:0.22256\n",
      "[175]\ttrain-logloss:0.21404\teval-logloss:0.22200\n",
      "[176]\ttrain-logloss:0.21343\teval-logloss:0.22144\n",
      "[177]\ttrain-logloss:0.21285\teval-logloss:0.22089\n",
      "[178]\ttrain-logloss:0.21226\teval-logloss:0.22036\n",
      "[179]\ttrain-logloss:0.21168\teval-logloss:0.21982\n",
      "[180]\ttrain-logloss:0.21111\teval-logloss:0.21930\n",
      "[181]\ttrain-logloss:0.21056\teval-logloss:0.21878\n",
      "[182]\ttrain-logloss:0.21000\teval-logloss:0.21826\n",
      "[183]\ttrain-logloss:0.20945\teval-logloss:0.21777\n",
      "[184]\ttrain-logloss:0.20891\teval-logloss:0.21727\n",
      "[185]\ttrain-logloss:0.20839\teval-logloss:0.21678\n",
      "[186]\ttrain-logloss:0.20786\teval-logloss:0.21630\n",
      "[187]\ttrain-logloss:0.20736\teval-logloss:0.21582\n",
      "[188]\ttrain-logloss:0.20686\teval-logloss:0.21536\n",
      "[189]\ttrain-logloss:0.20636\teval-logloss:0.21489\n",
      "[190]\ttrain-logloss:0.20589\teval-logloss:0.21444\n",
      "[191]\ttrain-logloss:0.20540\teval-logloss:0.21400\n",
      "[192]\ttrain-logloss:0.20491\teval-logloss:0.21356\n",
      "[193]\ttrain-logloss:0.20445\teval-logloss:0.21312\n",
      "[194]\ttrain-logloss:0.20399\teval-logloss:0.21270\n",
      "[195]\ttrain-logloss:0.20353\teval-logloss:0.21227\n",
      "[196]\ttrain-logloss:0.20308\teval-logloss:0.21185\n",
      "[197]\ttrain-logloss:0.20265\teval-logloss:0.21145\n",
      "[198]\ttrain-logloss:0.20221\teval-logloss:0.21105\n",
      "[199]\ttrain-logloss:0.20178\teval-logloss:0.21066\n",
      "[200]\ttrain-logloss:0.20135\teval-logloss:0.21027\n",
      "[201]\ttrain-logloss:0.20094\teval-logloss:0.20988\n",
      "[202]\ttrain-logloss:0.20053\teval-logloss:0.20950\n",
      "[203]\ttrain-logloss:0.20012\teval-logloss:0.20913\n",
      "[204]\ttrain-logloss:0.19971\teval-logloss:0.20876\n",
      "[205]\ttrain-logloss:0.19931\teval-logloss:0.20840\n",
      "[206]\ttrain-logloss:0.19893\teval-logloss:0.20804\n",
      "[207]\ttrain-logloss:0.19854\teval-logloss:0.20769\n",
      "[208]\ttrain-logloss:0.19816\teval-logloss:0.20735\n",
      "[209]\ttrain-logloss:0.19779\teval-logloss:0.20700\n",
      "[210]\ttrain-logloss:0.19741\teval-logloss:0.20667\n",
      "[211]\ttrain-logloss:0.19705\teval-logloss:0.20634\n",
      "[212]\ttrain-logloss:0.19670\teval-logloss:0.20602\n",
      "[213]\ttrain-logloss:0.19634\teval-logloss:0.20569\n",
      "[214]\ttrain-logloss:0.19599\teval-logloss:0.20538\n",
      "[215]\ttrain-logloss:0.19564\teval-logloss:0.20507\n",
      "[216]\ttrain-logloss:0.19530\teval-logloss:0.20476\n",
      "[217]\ttrain-logloss:0.19497\teval-logloss:0.20446\n",
      "[218]\ttrain-logloss:0.19464\teval-logloss:0.20416\n",
      "[219]\ttrain-logloss:0.19431\teval-logloss:0.20388\n",
      "[220]\ttrain-logloss:0.19400\teval-logloss:0.20358\n",
      "[221]\ttrain-logloss:0.19368\teval-logloss:0.20331\n",
      "[222]\ttrain-logloss:0.19337\teval-logloss:0.20302\n",
      "[223]\ttrain-logloss:0.19306\teval-logloss:0.20275\n",
      "[224]\ttrain-logloss:0.19276\teval-logloss:0.20248\n",
      "[225]\ttrain-logloss:0.19246\teval-logloss:0.20221\n",
      "[226]\ttrain-logloss:0.19216\teval-logloss:0.20195\n",
      "[227]\ttrain-logloss:0.19187\teval-logloss:0.20169\n",
      "[228]\ttrain-logloss:0.19158\teval-logloss:0.20144\n",
      "[229]\ttrain-logloss:0.19131\teval-logloss:0.20119\n",
      "[230]\ttrain-logloss:0.19102\teval-logloss:0.20094\n",
      "[231]\ttrain-logloss:0.19074\teval-logloss:0.20070\n",
      "[232]\ttrain-logloss:0.19048\teval-logloss:0.20046\n",
      "[233]\ttrain-logloss:0.19021\teval-logloss:0.20022\n",
      "[234]\ttrain-logloss:0.18995\teval-logloss:0.19999\n",
      "[235]\ttrain-logloss:0.18969\teval-logloss:0.19977\n",
      "[236]\ttrain-logloss:0.18943\teval-logloss:0.19954\n",
      "[237]\ttrain-logloss:0.18919\teval-logloss:0.19932\n",
      "[238]\ttrain-logloss:0.18893\teval-logloss:0.19910\n",
      "[239]\ttrain-logloss:0.18869\teval-logloss:0.19889\n",
      "[240]\ttrain-logloss:0.18844\teval-logloss:0.19867\n",
      "[241]\ttrain-logloss:0.18821\teval-logloss:0.19847\n",
      "[242]\ttrain-logloss:0.18797\teval-logloss:0.19826\n",
      "[243]\ttrain-logloss:0.18774\teval-logloss:0.19806\n",
      "[244]\ttrain-logloss:0.18751\teval-logloss:0.19786\n",
      "[245]\ttrain-logloss:0.18728\teval-logloss:0.19767\n",
      "[246]\ttrain-logloss:0.18706\teval-logloss:0.19748\n",
      "[247]\ttrain-logloss:0.18684\teval-logloss:0.19728\n",
      "[248]\ttrain-logloss:0.18662\teval-logloss:0.19710\n",
      "[249]\ttrain-logloss:0.18640\teval-logloss:0.19692\n",
      "[250]\ttrain-logloss:0.18619\teval-logloss:0.19674\n",
      "[251]\ttrain-logloss:0.18598\teval-logloss:0.19656\n",
      "[252]\ttrain-logloss:0.18578\teval-logloss:0.19639\n",
      "[253]\ttrain-logloss:0.18558\teval-logloss:0.19621\n",
      "[254]\ttrain-logloss:0.18538\teval-logloss:0.19605\n",
      "[255]\ttrain-logloss:0.18518\teval-logloss:0.19588\n",
      "[256]\ttrain-logloss:0.18499\teval-logloss:0.19572\n",
      "[257]\ttrain-logloss:0.18480\teval-logloss:0.19556\n",
      "[258]\ttrain-logloss:0.18461\teval-logloss:0.19540\n",
      "[259]\ttrain-logloss:0.18443\teval-logloss:0.19525\n",
      "[260]\ttrain-logloss:0.18424\teval-logloss:0.19509\n",
      "[261]\ttrain-logloss:0.18406\teval-logloss:0.19494\n",
      "[262]\ttrain-logloss:0.18388\teval-logloss:0.19479\n",
      "[263]\ttrain-logloss:0.18370\teval-logloss:0.19465\n",
      "[264]\ttrain-logloss:0.18353\teval-logloss:0.19451\n",
      "[265]\ttrain-logloss:0.18335\teval-logloss:0.19437\n",
      "[266]\ttrain-logloss:0.18319\teval-logloss:0.19423\n",
      "[267]\ttrain-logloss:0.18301\teval-logloss:0.19409\n",
      "[268]\ttrain-logloss:0.18285\teval-logloss:0.19396\n",
      "[269]\ttrain-logloss:0.18269\teval-logloss:0.19383\n",
      "[270]\ttrain-logloss:0.18252\teval-logloss:0.19369\n",
      "[271]\ttrain-logloss:0.18236\teval-logloss:0.19357\n",
      "[272]\ttrain-logloss:0.18221\teval-logloss:0.19344\n",
      "[273]\ttrain-logloss:0.18205\teval-logloss:0.19331\n",
      "[274]\ttrain-logloss:0.18190\teval-logloss:0.19319\n",
      "[275]\ttrain-logloss:0.18174\teval-logloss:0.19307\n",
      "[276]\ttrain-logloss:0.18160\teval-logloss:0.19295\n",
      "[277]\ttrain-logloss:0.18144\teval-logloss:0.19283\n",
      "[278]\ttrain-logloss:0.18130\teval-logloss:0.19272\n",
      "[279]\ttrain-logloss:0.18116\teval-logloss:0.19261\n",
      "[280]\ttrain-logloss:0.18102\teval-logloss:0.19249\n",
      "[281]\ttrain-logloss:0.18088\teval-logloss:0.19239\n",
      "[282]\ttrain-logloss:0.18074\teval-logloss:0.19228\n",
      "[283]\ttrain-logloss:0.18061\teval-logloss:0.19217\n",
      "[284]\ttrain-logloss:0.18047\teval-logloss:0.19207\n",
      "[285]\ttrain-logloss:0.18034\teval-logloss:0.19196\n",
      "[286]\ttrain-logloss:0.18021\teval-logloss:0.19186\n",
      "[287]\ttrain-logloss:0.18008\teval-logloss:0.19176\n",
      "[288]\ttrain-logloss:0.17996\teval-logloss:0.19167\n",
      "[289]\ttrain-logloss:0.17983\teval-logloss:0.19158\n",
      "[290]\ttrain-logloss:0.17970\teval-logloss:0.19149\n",
      "[291]\ttrain-logloss:0.17958\teval-logloss:0.19140\n",
      "[292]\ttrain-logloss:0.17946\teval-logloss:0.19131\n",
      "[293]\ttrain-logloss:0.17934\teval-logloss:0.19122\n",
      "[294]\ttrain-logloss:0.17922\teval-logloss:0.19113\n",
      "[295]\ttrain-logloss:0.17910\teval-logloss:0.19104\n",
      "[296]\ttrain-logloss:0.17899\teval-logloss:0.19096\n",
      "[297]\ttrain-logloss:0.17888\teval-logloss:0.19089\n",
      "[298]\ttrain-logloss:0.17876\teval-logloss:0.19081\n",
      "[299]\ttrain-logloss:0.17866\teval-logloss:0.19073\n",
      "[300]\ttrain-logloss:0.17855\teval-logloss:0.19065\n",
      "[301]\ttrain-logloss:0.17844\teval-logloss:0.19057\n",
      "[302]\ttrain-logloss:0.17834\teval-logloss:0.19049\n",
      "[303]\ttrain-logloss:0.17824\teval-logloss:0.19042\n",
      "[304]\ttrain-logloss:0.17813\teval-logloss:0.19034\n",
      "[305]\ttrain-logloss:0.17804\teval-logloss:0.19027\n",
      "[306]\ttrain-logloss:0.17793\teval-logloss:0.19020\n",
      "[307]\ttrain-logloss:0.17784\teval-logloss:0.19013\n",
      "[308]\ttrain-logloss:0.17774\teval-logloss:0.19006\n",
      "[309]\ttrain-logloss:0.17764\teval-logloss:0.18999\n",
      "[310]\ttrain-logloss:0.17754\teval-logloss:0.18993\n",
      "[311]\ttrain-logloss:0.17745\teval-logloss:0.18987\n",
      "[312]\ttrain-logloss:0.17736\teval-logloss:0.18980\n",
      "[313]\ttrain-logloss:0.17727\teval-logloss:0.18974\n",
      "[314]\ttrain-logloss:0.17718\teval-logloss:0.18968\n",
      "[315]\ttrain-logloss:0.17710\teval-logloss:0.18962\n",
      "[316]\ttrain-logloss:0.17701\teval-logloss:0.18956\n",
      "[317]\ttrain-logloss:0.17692\teval-logloss:0.18951\n",
      "[318]\ttrain-logloss:0.17683\teval-logloss:0.18945\n",
      "[319]\ttrain-logloss:0.17675\teval-logloss:0.18939\n",
      "[320]\ttrain-logloss:0.17667\teval-logloss:0.18934\n",
      "[321]\ttrain-logloss:0.17658\teval-logloss:0.18929\n",
      "[322]\ttrain-logloss:0.17650\teval-logloss:0.18924\n",
      "[323]\ttrain-logloss:0.17642\teval-logloss:0.18919\n",
      "[324]\ttrain-logloss:0.17634\teval-logloss:0.18914\n",
      "[325]\ttrain-logloss:0.17627\teval-logloss:0.18909\n",
      "[326]\ttrain-logloss:0.17618\teval-logloss:0.18904\n",
      "[327]\ttrain-logloss:0.17611\teval-logloss:0.18899\n",
      "[328]\ttrain-logloss:0.17604\teval-logloss:0.18894\n",
      "[329]\ttrain-logloss:0.17596\teval-logloss:0.18890\n",
      "[330]\ttrain-logloss:0.17589\teval-logloss:0.18885\n",
      "[331]\ttrain-logloss:0.17581\teval-logloss:0.18881\n"
     ]
    },
    {
     "name": "stdout",
     "output_type": "stream",
     "text": [
      "[332]\ttrain-logloss:0.17575\teval-logloss:0.18877\n",
      "[333]\ttrain-logloss:0.17567\teval-logloss:0.18873\n",
      "[334]\ttrain-logloss:0.17560\teval-logloss:0.18869\n",
      "[335]\ttrain-logloss:0.17553\teval-logloss:0.18864\n",
      "[336]\ttrain-logloss:0.17545\teval-logloss:0.18860\n",
      "[337]\ttrain-logloss:0.17539\teval-logloss:0.18856\n",
      "[338]\ttrain-logloss:0.17531\teval-logloss:0.18852\n",
      "[339]\ttrain-logloss:0.17525\teval-logloss:0.18848\n",
      "[340]\ttrain-logloss:0.17519\teval-logloss:0.18845\n",
      "[341]\ttrain-logloss:0.17512\teval-logloss:0.18841\n",
      "[342]\ttrain-logloss:0.17505\teval-logloss:0.18837\n",
      "[343]\ttrain-logloss:0.17499\teval-logloss:0.18834\n",
      "[344]\ttrain-logloss:0.17492\teval-logloss:0.18830\n",
      "[345]\ttrain-logloss:0.17486\teval-logloss:0.18826\n",
      "[346]\ttrain-logloss:0.17480\teval-logloss:0.18823\n",
      "[347]\ttrain-logloss:0.17475\teval-logloss:0.18820\n",
      "[348]\ttrain-logloss:0.17469\teval-logloss:0.18816\n",
      "[349]\ttrain-logloss:0.17463\teval-logloss:0.18813\n",
      "[350]\ttrain-logloss:0.17457\teval-logloss:0.18810\n",
      "[351]\ttrain-logloss:0.17451\teval-logloss:0.18807\n",
      "[352]\ttrain-logloss:0.17445\teval-logloss:0.18804\n",
      "[353]\ttrain-logloss:0.17440\teval-logloss:0.18801\n",
      "[354]\ttrain-logloss:0.17434\teval-logloss:0.18798\n",
      "[355]\ttrain-logloss:0.17428\teval-logloss:0.18795\n",
      "[356]\ttrain-logloss:0.17422\teval-logloss:0.18792\n",
      "[357]\ttrain-logloss:0.17417\teval-logloss:0.18789\n",
      "[358]\ttrain-logloss:0.17412\teval-logloss:0.18787\n",
      "[359]\ttrain-logloss:0.17406\teval-logloss:0.18784\n",
      "[360]\ttrain-logloss:0.17400\teval-logloss:0.18781\n",
      "[361]\ttrain-logloss:0.17395\teval-logloss:0.18779\n",
      "[362]\ttrain-logloss:0.17389\teval-logloss:0.18776\n",
      "[363]\ttrain-logloss:0.17385\teval-logloss:0.18774\n",
      "[364]\ttrain-logloss:0.17379\teval-logloss:0.18772\n",
      "[365]\ttrain-logloss:0.17374\teval-logloss:0.18770\n",
      "[366]\ttrain-logloss:0.17369\teval-logloss:0.18767\n",
      "[367]\ttrain-logloss:0.17364\teval-logloss:0.18765\n",
      "[368]\ttrain-logloss:0.17359\teval-logloss:0.18763\n",
      "[369]\ttrain-logloss:0.17355\teval-logloss:0.18761\n",
      "[370]\ttrain-logloss:0.17350\teval-logloss:0.18759\n",
      "[371]\ttrain-logloss:0.17345\teval-logloss:0.18757\n",
      "[372]\ttrain-logloss:0.17340\teval-logloss:0.18754\n",
      "[373]\ttrain-logloss:0.17335\teval-logloss:0.18753\n",
      "[374]\ttrain-logloss:0.17330\teval-logloss:0.18751\n",
      "[375]\ttrain-logloss:0.17326\teval-logloss:0.18749\n",
      "[376]\ttrain-logloss:0.17321\teval-logloss:0.18747\n",
      "[377]\ttrain-logloss:0.17317\teval-logloss:0.18746\n",
      "[378]\ttrain-logloss:0.17312\teval-logloss:0.18744\n",
      "[379]\ttrain-logloss:0.17307\teval-logloss:0.18742\n",
      "[380]\ttrain-logloss:0.17303\teval-logloss:0.18740\n",
      "[381]\ttrain-logloss:0.17299\teval-logloss:0.18739\n",
      "[382]\ttrain-logloss:0.17295\teval-logloss:0.18737\n",
      "[383]\ttrain-logloss:0.17291\teval-logloss:0.18736\n",
      "[384]\ttrain-logloss:0.17286\teval-logloss:0.18735\n",
      "[385]\ttrain-logloss:0.17282\teval-logloss:0.18733\n",
      "[386]\ttrain-logloss:0.17277\teval-logloss:0.18732\n",
      "[387]\ttrain-logloss:0.17273\teval-logloss:0.18730\n",
      "[388]\ttrain-logloss:0.17270\teval-logloss:0.18729\n",
      "[389]\ttrain-logloss:0.17266\teval-logloss:0.18727\n",
      "[390]\ttrain-logloss:0.17262\teval-logloss:0.18726\n",
      "[391]\ttrain-logloss:0.17258\teval-logloss:0.18724\n",
      "[392]\ttrain-logloss:0.17254\teval-logloss:0.18723\n",
      "[393]\ttrain-logloss:0.17250\teval-logloss:0.18722\n",
      "[394]\ttrain-logloss:0.17246\teval-logloss:0.18721\n",
      "[395]\ttrain-logloss:0.17243\teval-logloss:0.18719\n",
      "[396]\ttrain-logloss:0.17238\teval-logloss:0.18718\n",
      "[397]\ttrain-logloss:0.17234\teval-logloss:0.18717\n",
      "[398]\ttrain-logloss:0.17231\teval-logloss:0.18715\n",
      "[399]\ttrain-logloss:0.17227\teval-logloss:0.18714\n",
      "[400]\ttrain-logloss:0.17223\teval-logloss:0.18713\n",
      "[401]\ttrain-logloss:0.17220\teval-logloss:0.18712\n",
      "[402]\ttrain-logloss:0.17216\teval-logloss:0.18711\n",
      "[403]\ttrain-logloss:0.17213\teval-logloss:0.18710\n",
      "[404]\ttrain-logloss:0.17209\teval-logloss:0.18709\n",
      "[405]\ttrain-logloss:0.17206\teval-logloss:0.18708\n",
      "[406]\ttrain-logloss:0.17203\teval-logloss:0.18707\n",
      "[407]\ttrain-logloss:0.17199\teval-logloss:0.18706\n",
      "[408]\ttrain-logloss:0.17196\teval-logloss:0.18705\n",
      "[409]\ttrain-logloss:0.17193\teval-logloss:0.18704\n",
      "[410]\ttrain-logloss:0.17189\teval-logloss:0.18703\n",
      "[411]\ttrain-logloss:0.17186\teval-logloss:0.18702\n",
      "[412]\ttrain-logloss:0.17183\teval-logloss:0.18701\n",
      "[413]\ttrain-logloss:0.17181\teval-logloss:0.18701\n",
      "[414]\ttrain-logloss:0.17177\teval-logloss:0.18700\n",
      "[415]\ttrain-logloss:0.17174\teval-logloss:0.18700\n",
      "[416]\ttrain-logloss:0.17171\teval-logloss:0.18699\n",
      "[417]\ttrain-logloss:0.17168\teval-logloss:0.18698\n",
      "[418]\ttrain-logloss:0.17165\teval-logloss:0.18697\n",
      "[419]\ttrain-logloss:0.17162\teval-logloss:0.18696\n",
      "[420]\ttrain-logloss:0.17159\teval-logloss:0.18695\n",
      "[421]\ttrain-logloss:0.17157\teval-logloss:0.18695\n",
      "[422]\ttrain-logloss:0.17153\teval-logloss:0.18694\n",
      "[423]\ttrain-logloss:0.17151\teval-logloss:0.18694\n",
      "[424]\ttrain-logloss:0.17148\teval-logloss:0.18693\n",
      "[425]\ttrain-logloss:0.17145\teval-logloss:0.18692\n",
      "[426]\ttrain-logloss:0.17142\teval-logloss:0.18691\n",
      "[427]\ttrain-logloss:0.17139\teval-logloss:0.18691\n",
      "[428]\ttrain-logloss:0.17135\teval-logloss:0.18690\n",
      "[429]\ttrain-logloss:0.17132\teval-logloss:0.18690\n",
      "[430]\ttrain-logloss:0.17130\teval-logloss:0.18689\n",
      "[431]\ttrain-logloss:0.17127\teval-logloss:0.18689\n",
      "[432]\ttrain-logloss:0.17124\teval-logloss:0.18688\n",
      "[433]\ttrain-logloss:0.17121\teval-logloss:0.18687\n",
      "[434]\ttrain-logloss:0.17118\teval-logloss:0.18687\n",
      "[435]\ttrain-logloss:0.17116\teval-logloss:0.18686\n",
      "[436]\ttrain-logloss:0.17113\teval-logloss:0.18686\n",
      "[437]\ttrain-logloss:0.17110\teval-logloss:0.18685\n",
      "[438]\ttrain-logloss:0.17107\teval-logloss:0.18685\n",
      "[439]\ttrain-logloss:0.17105\teval-logloss:0.18685\n",
      "[440]\ttrain-logloss:0.17102\teval-logloss:0.18685\n",
      "[441]\ttrain-logloss:0.17099\teval-logloss:0.18684\n",
      "[442]\ttrain-logloss:0.17097\teval-logloss:0.18684\n",
      "[443]\ttrain-logloss:0.17093\teval-logloss:0.18683\n",
      "[444]\ttrain-logloss:0.17091\teval-logloss:0.18683\n",
      "[445]\ttrain-logloss:0.17088\teval-logloss:0.18682\n",
      "[446]\ttrain-logloss:0.17085\teval-logloss:0.18682\n",
      "[447]\ttrain-logloss:0.17083\teval-logloss:0.18681\n",
      "[448]\ttrain-logloss:0.17080\teval-logloss:0.18681\n",
      "[449]\ttrain-logloss:0.17077\teval-logloss:0.18681\n",
      "[450]\ttrain-logloss:0.17074\teval-logloss:0.18681\n",
      "[451]\ttrain-logloss:0.17072\teval-logloss:0.18680\n",
      "[452]\ttrain-logloss:0.17070\teval-logloss:0.18680\n",
      "[453]\ttrain-logloss:0.17066\teval-logloss:0.18679\n",
      "[454]\ttrain-logloss:0.17064\teval-logloss:0.18679\n",
      "[455]\ttrain-logloss:0.17061\teval-logloss:0.18679\n",
      "[456]\ttrain-logloss:0.17058\teval-logloss:0.18679\n",
      "[457]\ttrain-logloss:0.17056\teval-logloss:0.18678\n",
      "[458]\ttrain-logloss:0.17054\teval-logloss:0.18678\n",
      "[459]\ttrain-logloss:0.17051\teval-logloss:0.18678\n",
      "[460]\ttrain-logloss:0.17048\teval-logloss:0.18678\n",
      "[461]\ttrain-logloss:0.17045\teval-logloss:0.18677\n",
      "[462]\ttrain-logloss:0.17043\teval-logloss:0.18678\n",
      "[463]\ttrain-logloss:0.17041\teval-logloss:0.18677\n",
      "[464]\ttrain-logloss:0.17039\teval-logloss:0.18677\n",
      "[465]\ttrain-logloss:0.17038\teval-logloss:0.18676\n",
      "[466]\ttrain-logloss:0.17035\teval-logloss:0.18676\n",
      "[467]\ttrain-logloss:0.17033\teval-logloss:0.18676\n",
      "[468]\ttrain-logloss:0.17030\teval-logloss:0.18676\n",
      "[469]\ttrain-logloss:0.17028\teval-logloss:0.18676\n",
      "[470]\ttrain-logloss:0.17025\teval-logloss:0.18676\n",
      "[471]\ttrain-logloss:0.17024\teval-logloss:0.18676\n",
      "[472]\ttrain-logloss:0.17020\teval-logloss:0.18676\n",
      "[473]\ttrain-logloss:0.17019\teval-logloss:0.18676\n",
      "[474]\ttrain-logloss:0.17015\teval-logloss:0.18675\n",
      "[475]\ttrain-logloss:0.17013\teval-logloss:0.18675\n",
      "[476]\ttrain-logloss:0.17009\teval-logloss:0.18675\n",
      "[477]\ttrain-logloss:0.17008\teval-logloss:0.18675\n",
      "[478]\ttrain-logloss:0.17004\teval-logloss:0.18674\n",
      "[479]\ttrain-logloss:0.17002\teval-logloss:0.18674\n",
      "[480]\ttrain-logloss:0.17000\teval-logloss:0.18674\n",
      "[481]\ttrain-logloss:0.16998\teval-logloss:0.18674\n",
      "[482]\ttrain-logloss:0.16996\teval-logloss:0.18674\n",
      "[483]\ttrain-logloss:0.16994\teval-logloss:0.18674\n",
      "[484]\ttrain-logloss:0.16991\teval-logloss:0.18674\n",
      "[485]\ttrain-logloss:0.16990\teval-logloss:0.18673\n",
      "[486]\ttrain-logloss:0.16989\teval-logloss:0.18673\n",
      "[487]\ttrain-logloss:0.16987\teval-logloss:0.18673\n",
      "[488]\ttrain-logloss:0.16986\teval-logloss:0.18673\n",
      "[489]\ttrain-logloss:0.16984\teval-logloss:0.18673\n",
      "[490]\ttrain-logloss:0.16983\teval-logloss:0.18673\n",
      "[491]\ttrain-logloss:0.16981\teval-logloss:0.18673\n",
      "[492]\ttrain-logloss:0.16978\teval-logloss:0.18673\n",
      "[493]\ttrain-logloss:0.16977\teval-logloss:0.18672\n",
      "[494]\ttrain-logloss:0.16975\teval-logloss:0.18673\n",
      "[495]\ttrain-logloss:0.16974\teval-logloss:0.18672\n",
      "[496]\ttrain-logloss:0.16972\teval-logloss:0.18672\n",
      "[497]\ttrain-logloss:0.16971\teval-logloss:0.18672\n",
      "[498]\ttrain-logloss:0.16969\teval-logloss:0.18672\n",
      "[499]\ttrain-logloss:0.16967\teval-logloss:0.18672\n"
     ]
    },
    {
     "name": "stdout",
     "output_type": "stream",
     "text": [
      "[500]\ttrain-logloss:0.16966\teval-logloss:0.18671\n",
      "[501]\ttrain-logloss:0.16964\teval-logloss:0.18671\n",
      "[502]\ttrain-logloss:0.16962\teval-logloss:0.18672\n",
      "[503]\ttrain-logloss:0.16960\teval-logloss:0.18672\n",
      "[504]\ttrain-logloss:0.16958\teval-logloss:0.18672\n",
      "[505]\ttrain-logloss:0.16956\teval-logloss:0.18672\n",
      "[506]\ttrain-logloss:0.16954\teval-logloss:0.18672\n",
      "[507]\ttrain-logloss:0.16953\teval-logloss:0.18671\n",
      "[508]\ttrain-logloss:0.16951\teval-logloss:0.18672\n",
      "[509]\ttrain-logloss:0.16950\teval-logloss:0.18671\n",
      "[510]\ttrain-logloss:0.16948\teval-logloss:0.18672\n",
      "[511]\ttrain-logloss:0.16946\teval-logloss:0.18672\n",
      "[512]\ttrain-logloss:0.16945\teval-logloss:0.18672\n",
      "[513]\ttrain-logloss:0.16942\teval-logloss:0.18672\n",
      "[514]\ttrain-logloss:0.16940\teval-logloss:0.18673\n",
      "[515]\ttrain-logloss:0.16937\teval-logloss:0.18673\n"
     ]
    }
   ],
   "source": [
    "params= {'booster' : \"gbtree\", 'learning_rate' : 0.01, 'objective' : \"binary:logistic\"}\n",
    "xgb2 = xgb.train(dtrain=train, params=params, num_boost_round = 700, early_stopping_rounds= 15, evals= [(train, 'train'), (test, 'eval')])"
   ]
  },
  {
   "cell_type": "code",
   "execution_count": 62,
   "id": "e837c9ef",
   "metadata": {},
   "outputs": [
    {
     "name": "stdout",
     "output_type": "stream",
     "text": [
      "[12:18:49] WARNING: C:/Users/Administrator/workspace/xgboost-win64_release_1.4.0/src/learner.cc:1095: Starting in XGBoost 1.3.0, the default evaluation metric used with the objective 'binary:logistic' was changed from 'error' to 'logloss'. Explicitly set eval_metric if you'd like to restore the old behavior.\n",
      "[12:18:49] WARNING: C:/Users/Administrator/workspace/xgboost-win64_release_1.4.0/src/learner.cc:1095: Starting in XGBoost 1.3.0, the default evaluation metric used with the objective 'binary:logistic' was changed from 'error' to 'logloss'. Explicitly set eval_metric if you'd like to restore the old behavior.\n",
      "[12:18:49] WARNING: C:/Users/Administrator/workspace/xgboost-win64_release_1.4.0/src/learner.cc:1095: Starting in XGBoost 1.3.0, the default evaluation metric used with the objective 'binary:logistic' was changed from 'error' to 'logloss'. Explicitly set eval_metric if you'd like to restore the old behavior.\n",
      "    train-logloss-mean  train-logloss-std  test-logloss-mean  test-logloss-std\n",
      "0             0.684800           0.000016           0.684885          0.000027\n",
      "1             0.676763           0.000035           0.676773          0.000048\n",
      "2             0.668773           0.000067           0.668829          0.000041\n",
      "3             0.661007           0.000154           0.661018          0.000075\n",
      "4             0.653392           0.000091           0.653386          0.000098\n",
      "..                 ...                ...                ...               ...\n",
      "95            0.300849           0.001505           0.301708          0.001651\n",
      "96            0.299057           0.001505           0.299934          0.001661\n",
      "97            0.297295           0.001520           0.298181          0.001681\n",
      "98            0.295542           0.001513           0.296461          0.001704\n",
      "99            0.293838           0.001549           0.294752          0.001717\n",
      "\n",
      "[100 rows x 4 columns]\n"
     ]
    }
   ],
   "source": [
    "bst_cv = xgb.cv(dtrain= train, params= params, num_boost_round = 100, nfold=3, early_stopping_rounds= 60)\n",
    "\n",
    "print(bst_cv)"
   ]
  },
  {
   "cell_type": "code",
   "execution_count": 63,
   "id": "ef1e74cd",
   "metadata": {},
   "outputs": [
    {
     "data": {
      "text/html": [
       "<div>\n",
       "<style scoped>\n",
       "    .dataframe tbody tr th:only-of-type {\n",
       "        vertical-align: middle;\n",
       "    }\n",
       "\n",
       "    .dataframe tbody tr th {\n",
       "        vertical-align: top;\n",
       "    }\n",
       "\n",
       "    .dataframe thead th {\n",
       "        text-align: right;\n",
       "    }\n",
       "</style>\n",
       "<table border=\"1\" class=\"dataframe\">\n",
       "  <thead>\n",
       "    <tr style=\"text-align: right;\">\n",
       "      <th>is_fraud</th>\n",
       "      <th>0</th>\n",
       "      <th>1</th>\n",
       "    </tr>\n",
       "    <tr>\n",
       "      <th>row_0</th>\n",
       "      <th></th>\n",
       "      <th></th>\n",
       "    </tr>\n",
       "  </thead>\n",
       "  <tbody>\n",
       "    <tr>\n",
       "      <th>0</th>\n",
       "      <td>1194</td>\n",
       "      <td>137</td>\n",
       "    </tr>\n",
       "    <tr>\n",
       "      <th>1</th>\n",
       "      <td>78</td>\n",
       "      <td>12</td>\n",
       "    </tr>\n",
       "  </tbody>\n",
       "</table>\n",
       "</div>"
      ],
      "text/plain": [
       "is_fraud     0    1\n",
       "row_0              \n",
       "0         1194  137\n",
       "1           78   12"
      ]
     },
     "execution_count": 63,
     "metadata": {},
     "output_type": "execute_result"
    }
   ],
   "source": [
    "preds = xgb2.predict(val)\n",
    "xgbpreds = pd.Series(np.where(preds > 0.5, 1, 0))\n",
    "pd.crosstab(xgbpreds, pd.Series(y_val))"
   ]
  },
  {
   "cell_type": "markdown",
   "id": "cc89fbef",
   "metadata": {},
   "source": [
    "On affiche ensuite l'erreur du modèle sur l'échantillon de test."
   ]
  },
  {
   "cell_type": "code",
   "execution_count": 64,
   "id": "2795ebbb",
   "metadata": {},
   "outputs": [
    {
     "data": {
      "text/plain": [
       "'[0]\\teval-logloss:0.186730'"
      ]
     },
     "execution_count": 64,
     "metadata": {},
     "output_type": "execute_result"
    }
   ],
   "source": [
    "xgb2.eval(test)"
   ]
  },
  {
   "cell_type": "code",
   "execution_count": 65,
   "id": "4a6fc1b6",
   "metadata": {},
   "outputs": [],
   "source": [
    "#Conclusion RandomForest semble être le bon algorithme de prédiction pour notre jeu de donnée,\n",
    "# néanmoins nous ne disposons pas assez d'informations pour pouvoir réaliser un bon modèle de prédiction\n",
    "#iL faudrait ajouter des nouvelles variables afin de cibler une prédiction plus cohérente pour nos modèles. "
   ]
  },
  {
   "cell_type": "code",
   "execution_count": null,
   "id": "5511f9f2",
   "metadata": {},
   "outputs": [],
   "source": []
  }
 ],
 "metadata": {
  "kernelspec": {
   "display_name": "Python 3",
   "language": "python",
   "name": "python3"
  },
  "language_info": {
   "codemirror_mode": {
    "name": "ipython",
    "version": 3
   },
   "file_extension": ".py",
   "mimetype": "text/x-python",
   "name": "python",
   "nbconvert_exporter": "python",
   "pygments_lexer": "ipython3",
   "version": "3.8.8"
  }
 },
 "nbformat": 4,
 "nbformat_minor": 5
}
